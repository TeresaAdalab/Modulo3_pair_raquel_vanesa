{
 "cells": [
  {
   "cell_type": "code",
   "execution_count": 1,
   "metadata": {},
   "outputs": [
    {
     "name": "stdout",
     "output_type": "stream",
     "text": [
      "Requirement already satisfied: numpy in c:\\users\\usuario\\onedrive\\escritorio\\promo_a\\ejercicios-de-adalab\\.conda\\lib\\site-packages (1.26.4)\n",
      "Requirement already satisfied: scipy in c:\\users\\usuario\\onedrive\\escritorio\\promo_a\\ejercicios-de-adalab\\.conda\\lib\\site-packages (1.13.1)\n",
      "Note: you may need to restart the kernel to use updated packages.\n",
      "Requirement already satisfied: scikit-learn in c:\\users\\usuario\\onedrive\\escritorio\\promo_a\\ejercicios-de-adalab\\.conda\\lib\\site-packages (1.5.0)\n",
      "Requirement already satisfied: numpy>=1.19.5 in c:\\users\\usuario\\onedrive\\escritorio\\promo_a\\ejercicios-de-adalab\\.conda\\lib\\site-packages (from scikit-learn) (1.26.4)\n",
      "Requirement already satisfied: scipy>=1.6.0 in c:\\users\\usuario\\onedrive\\escritorio\\promo_a\\ejercicios-de-adalab\\.conda\\lib\\site-packages (from scikit-learn) (1.13.1)\n",
      "Requirement already satisfied: joblib>=1.2.0 in c:\\users\\usuario\\onedrive\\escritorio\\promo_a\\ejercicios-de-adalab\\.conda\\lib\\site-packages (from scikit-learn) (1.4.2)\n",
      "Requirement already satisfied: threadpoolctl>=3.1.0 in c:\\users\\usuario\\onedrive\\escritorio\\promo_a\\ejercicios-de-adalab\\.conda\\lib\\site-packages (from scikit-learn) (3.5.0)\n",
      "Note: you may need to restart the kernel to use updated packages.\n",
      "Requirement already satisfied: seaborn in c:\\users\\usuario\\onedrive\\escritorio\\promo_a\\ejercicios-de-adalab\\.conda\\lib\\site-packages (0.13.2)\n",
      "Requirement already satisfied: numpy!=1.24.0,>=1.20 in c:\\users\\usuario\\onedrive\\escritorio\\promo_a\\ejercicios-de-adalab\\.conda\\lib\\site-packages (from seaborn) (1.26.4)\n",
      "Requirement already satisfied: pandas>=1.2 in c:\\users\\usuario\\onedrive\\escritorio\\promo_a\\ejercicios-de-adalab\\.conda\\lib\\site-packages (from seaborn) (2.2.2)\n",
      "Requirement already satisfied: matplotlib!=3.6.1,>=3.4 in c:\\users\\usuario\\onedrive\\escritorio\\promo_a\\ejercicios-de-adalab\\.conda\\lib\\site-packages (from seaborn) (3.9.0)\n",
      "Requirement already satisfied: contourpy>=1.0.1 in c:\\users\\usuario\\onedrive\\escritorio\\promo_a\\ejercicios-de-adalab\\.conda\\lib\\site-packages (from matplotlib!=3.6.1,>=3.4->seaborn) (1.2.1)\n",
      "Requirement already satisfied: cycler>=0.10 in c:\\users\\usuario\\onedrive\\escritorio\\promo_a\\ejercicios-de-adalab\\.conda\\lib\\site-packages (from matplotlib!=3.6.1,>=3.4->seaborn) (0.12.1)\n",
      "Requirement already satisfied: fonttools>=4.22.0 in c:\\users\\usuario\\onedrive\\escritorio\\promo_a\\ejercicios-de-adalab\\.conda\\lib\\site-packages (from matplotlib!=3.6.1,>=3.4->seaborn) (4.53.0)\n",
      "Requirement already satisfied: kiwisolver>=1.3.1 in c:\\users\\usuario\\onedrive\\escritorio\\promo_a\\ejercicios-de-adalab\\.conda\\lib\\site-packages (from matplotlib!=3.6.1,>=3.4->seaborn) (1.4.5)\n",
      "Requirement already satisfied: packaging>=20.0 in c:\\users\\usuario\\onedrive\\escritorio\\promo_a\\ejercicios-de-adalab\\.conda\\lib\\site-packages (from matplotlib!=3.6.1,>=3.4->seaborn) (23.2)\n",
      "Requirement already satisfied: pillow>=8 in c:\\users\\usuario\\onedrive\\escritorio\\promo_a\\ejercicios-de-adalab\\.conda\\lib\\site-packages (from matplotlib!=3.6.1,>=3.4->seaborn) (10.3.0)\n",
      "Requirement already satisfied: pyparsing>=2.3.1 in c:\\users\\usuario\\onedrive\\escritorio\\promo_a\\ejercicios-de-adalab\\.conda\\lib\\site-packages (from matplotlib!=3.6.1,>=3.4->seaborn) (3.1.2)\n",
      "Requirement already satisfied: python-dateutil>=2.7 in c:\\users\\usuario\\onedrive\\escritorio\\promo_a\\ejercicios-de-adalab\\.conda\\lib\\site-packages (from matplotlib!=3.6.1,>=3.4->seaborn) (2.9.0)\n",
      "Requirement already satisfied: pytz>=2020.1 in c:\\users\\usuario\\onedrive\\escritorio\\promo_a\\ejercicios-de-adalab\\.conda\\lib\\site-packages (from pandas>=1.2->seaborn) (2024.1)\n",
      "Requirement already satisfied: tzdata>=2022.7 in c:\\users\\usuario\\onedrive\\escritorio\\promo_a\\ejercicios-de-adalab\\.conda\\lib\\site-packages (from pandas>=1.2->seaborn) (2024.1)\n",
      "Requirement already satisfied: six>=1.5 in c:\\users\\usuario\\onedrive\\escritorio\\promo_a\\ejercicios-de-adalab\\.conda\\lib\\site-packages (from python-dateutil>=2.7->matplotlib!=3.6.1,>=3.4->seaborn) (1.16.0)\n",
      "Note: you may need to restart the kernel to use updated packages.\n"
     ]
    }
   ],
   "source": [
    "#Importación de librerias\n",
    "\n",
    "%pip install numpy scipy\n",
    "import pandas as pd\n",
    "import numpy as np\n",
    "%pip install scikit-learn\n",
    "%pip install seaborn\n",
    "# importamos las librerías que necesitamos\n",
    "\n",
    "# Tratamiento de datos\n",
    "# -----------------------------------------------------------------------\n",
    "import pandas as pd\n",
    "import numpy as np\n",
    "\n",
    "# Imputación de nulos usando métodos avanzados estadísticos\n",
    "# -----------------------------------------------------------------------\n",
    "from sklearn.impute import SimpleImputer\n",
    "from sklearn.experimental import enable_iterative_imputer\n",
    "from sklearn.impute import IterativeImputer\n",
    "from sklearn.impute import KNNImputer\n",
    "\n",
    "# Librerías de visualización\n",
    "# -----------------------------------------------------------------------\n",
    "import seaborn as sns\n",
    "import matplotlib.pyplot as plt\n",
    "# Configuración\n",
    "# -----------------------------------------------------------------------\n",
    "pd.set_option('display.max_columns', None) # para poder visualizar todas las columnas de los DataFrames"
   ]
  },
  {
   "cell_type": "code",
   "execution_count": 2,
   "metadata": {},
   "outputs": [],
   "source": [
    "df_vf = pd.read_csv(\"df_vf_modificado.csv\", index_col=0)"
   ]
  },
  {
   "cell_type": "code",
   "execution_count": 20,
   "metadata": {},
   "outputs": [
    {
     "name": "stdout",
     "output_type": "stream",
     "text": [
      "Primeros registros del DataFrame:\n",
      "                abbreviation  agriculturalland(%) landarea(km2)  \\\n",
      "density(p/km2)                                                   \n",
      "60                       AF                 58.1       652,230   \n",
      "\n",
      "               armedforcessize  birthrate  callingcode capital/majorcity  \\\n",
      "density(p/km2)                                                             \n",
      "60                     323,000      32.49         93.0             Kabul   \n",
      "\n",
      "               co2-emissions    cpi  cpichange(%) currency-code  \\\n",
      "density(p/km2)                                                    \n",
      "60                     8,672  149.9           2.3           AFN   \n",
      "\n",
      "                fertilityrate  forestedarea(%) gasolineprice  \\\n",
      "density(p/km2)                                                 \n",
      "60                       4.47              2.1        $0.70    \n",
      "\n",
      "                             gdp  grossprimaryeducationenrollment(%)  \\\n",
      "density(p/km2)                                                         \n",
      "60              $19,101,353,833                                104.0   \n",
      "\n",
      "                grosstertiaryeducationenrollment(%)  infantmortality  \\\n",
      "density(p/km2)                                                         \n",
      "60                                              9.7             47.9   \n",
      "\n",
      "               largestcity  lifeexpectancy  maternalmortalityratio  \\\n",
      "density(p/km2)                                                       \n",
      "60                   Kabul            64.5                   638.0   \n",
      "\n",
      "               minimumwage officiallanguage  outofpockethealthexpenditure  \\\n",
      "density(p/km2)                                                              \n",
      "60                  $0.43            Pashto                          78.4   \n",
      "\n",
      "                physiciansperthousand  population  \\\n",
      "density(p/km2)                                      \n",
      "60                               0.28  38,041,754   \n",
      "\n",
      "                populationlaborforceparticipation(%)  taxrevenue(%)  \\\n",
      "density(p/km2)                                                        \n",
      "60                                              48.9            9.3   \n",
      "\n",
      "                totaltaxrate  unemploymentrate urban_population     longitude  \\\n",
      "density(p/km2)                                                                  \n",
      "60                      71.4             11.12        9,797,273  ('33.93911 '   \n",
      "\n",
      "                     latitude  \n",
      "density(p/km2)                 \n",
      "60               '67.709953')  \n"
     ]
    },
    {
     "data": {
      "text/plain": [
       "abbreviation                             7\n",
       "agriculturalland(%)                      0\n",
       "landarea(km2)                            1\n",
       "armedforcessize                         24\n",
       "birthrate                                0\n",
       "callingcode                              0\n",
       "capital/majorcity                        3\n",
       "co2-emissions                            7\n",
       "cpi                                     17\n",
       "cpichange(%)                             0\n",
       "currency-code                           15\n",
       "fertilityrate                            0\n",
       "forestedarea(%)                          0\n",
       "gasolineprice                           20\n",
       "gdp                                      2\n",
       "grossprimaryeducationenrollment(%)       0\n",
       "grosstertiaryeducationenrollment(%)      0\n",
       "infantmortality                          0\n",
       "largestcity                              6\n",
       "lifeexpectancy                           0\n",
       "maternalmortalityratio                   0\n",
       "minimumwage                             45\n",
       "officiallanguage                         5\n",
       "outofpockethealthexpenditure             0\n",
       "physiciansperthousand                    0\n",
       "population                               1\n",
       "populationlaborforceparticipation(%)     0\n",
       "taxrevenue(%)                            0\n",
       "totaltaxrate                             0\n",
       "unemploymentrate                         0\n",
       "urban_population                         5\n",
       "longitude                                0\n",
       "latitude                                 0\n",
       "dtype: int64"
      ]
     },
     "execution_count": 20,
     "metadata": {},
     "output_type": "execute_result"
    }
   ],
   "source": [
    "# Mostrar los primeros registros del DataFrame para verificar la carga correcta\n",
    "print(\"Primeros registros del DataFrame:\\n\", df_vf.head(1))\n",
    "\n",
    "# Calcular y mostrar la cantidad de valores nulos en cada columna\n",
    "nulos_por_columna = df_vf.isnull().sum()\n",
    "\n",
    "nulos_por_columna"
   ]
  },
  {
   "cell_type": "code",
   "execution_count": 4,
   "metadata": {},
   "outputs": [
    {
     "name": "stdout",
     "output_type": "stream",
     "text": [
      "\n",
      "Columnas numéricas:\n",
      " Index(['agriculturalland(%)', 'birthrate', 'callingcode', 'cpichange(%)',\n",
      "       'fertilityrate', 'forestedarea(%)',\n",
      "       'grossprimaryeducationenrollment(%)',\n",
      "       'grosstertiaryeducationenrollment(%)', 'infantmortality',\n",
      "       'lifeexpectancy', 'maternalmortalityratio',\n",
      "       'outofpockethealthexpenditure', 'physiciansperthousand',\n",
      "       'populationlaborforceparticipation(%)', 'taxrevenue(%)', 'totaltaxrate',\n",
      "       'unemploymentrate'],\n",
      "      dtype='object')\n"
     ]
    }
   ],
   "source": [
    "data_numericas = df_vf.select_dtypes(include=['number'])\n",
    "print(\"\\nColumnas numéricas:\\n\", data_numericas.columns)\n",
    " "
   ]
  },
  {
   "cell_type": "code",
   "execution_count": 5,
   "metadata": {},
   "outputs": [
    {
     "data": {
      "text/plain": [
       "agriculturalland(%)                     0\n",
       "birthrate                               0\n",
       "callingcode                             0\n",
       "cpichange(%)                            0\n",
       "fertilityrate                           0\n",
       "forestedarea(%)                         0\n",
       "grossprimaryeducationenrollment(%)      0\n",
       "grosstertiaryeducationenrollment(%)     0\n",
       "infantmortality                         0\n",
       "lifeexpectancy                          0\n",
       "maternalmortalityratio                  0\n",
       "outofpockethealthexpenditure            0\n",
       "physiciansperthousand                   0\n",
       "populationlaborforceparticipation(%)    0\n",
       "taxrevenue(%)                           0\n",
       "totaltaxrate                            0\n",
       "unemploymentrate                        0\n",
       "dtype: int64"
      ]
     },
     "execution_count": 5,
     "metadata": {},
     "output_type": "execute_result"
    }
   ],
   "source": [
    "# Calcular y mostrar la cantidad de valores nulos en cada columna numérica\n",
    "nulos_por_columna = data_numericas.isnull().sum()\n",
    "nulos_por_columna"
   ]
  },
  {
   "cell_type": "code",
   "execution_count": 6,
   "metadata": {},
   "outputs": [
    {
     "data": {
      "text/plain": [
       "(195, 33)"
      ]
     },
     "execution_count": 6,
     "metadata": {},
     "output_type": "execute_result"
    }
   ],
   "source": [
    "df_vf.shape"
   ]
  },
  {
   "cell_type": "code",
   "execution_count": 7,
   "metadata": {},
   "outputs": [],
   "source": [
    "porcentaje_nulos_num = (nulos_por_columna / df_vf.shape[0]) * 100"
   ]
  },
  {
   "cell_type": "code",
   "execution_count": 8,
   "metadata": {},
   "outputs": [
    {
     "data": {
      "text/plain": [
       "agriculturalland(%)                     0.0\n",
       "birthrate                               0.0\n",
       "callingcode                             0.0\n",
       "cpichange(%)                            0.0\n",
       "fertilityrate                           0.0\n",
       "forestedarea(%)                         0.0\n",
       "grossprimaryeducationenrollment(%)      0.0\n",
       "grosstertiaryeducationenrollment(%)     0.0\n",
       "infantmortality                         0.0\n",
       "lifeexpectancy                          0.0\n",
       "maternalmortalityratio                  0.0\n",
       "outofpockethealthexpenditure            0.0\n",
       "physiciansperthousand                   0.0\n",
       "populationlaborforceparticipation(%)    0.0\n",
       "taxrevenue(%)                           0.0\n",
       "totaltaxrate                            0.0\n",
       "unemploymentrate                        0.0\n",
       "dtype: float64"
      ]
     },
     "execution_count": 8,
     "metadata": {},
     "output_type": "execute_result"
    }
   ],
   "source": [
    "porcentaje_nulos_num "
   ]
  },
  {
   "cell_type": "code",
   "execution_count": 9,
   "metadata": {},
   "outputs": [
    {
     "name": "stdout",
     "output_type": "stream",
     "text": [
      "\n",
      "Columnas numéricas:\n",
      " Index(['agriculturalland(%)', 'birthrate', 'callingcode', 'cpichange(%)',\n",
      "       'fertilityrate', 'forestedarea(%)',\n",
      "       'grossprimaryeducationenrollment(%)',\n",
      "       'grosstertiaryeducationenrollment(%)', 'infantmortality',\n",
      "       'lifeexpectancy', 'maternalmortalityratio',\n",
      "       'outofpockethealthexpenditure', 'physiciansperthousand',\n",
      "       'populationlaborforceparticipation(%)', 'taxrevenue(%)', 'totaltaxrate',\n",
      "       'unemploymentrate'],\n",
      "      dtype='object')\n"
     ]
    },
    {
     "data": {
      "image/png": "[encoded data removed]",
      "text/plain": [
       "<Figure size 2000x1200 with 1 Axes>"
      ]
     },
     "metadata": {},
     "output_type": "display_data"
    }
   ],
   "source": [
    "# Seleccionar y mostrar las columnas numéricas\n",
    "data_numericas = df_vf.select_dtypes(include=['number'])\n",
    "print(\"\\nColumnas numéricas:\\n\", data_numericas.columns)\n",
    "\n",
    "# Dibujar boxplot para cada columna numérica\n",
    "plt.figure(figsize=(20, 12))  # Ajustar el tamaño de la figura\n",
    "sns.boxplot(data=data_numericas)\n",
    "plt.title('Boxplot de Variables Numéricas')\n",
    "plt.xticks(rotation=45)\n",
    "plt.show()"
   ]
  },
  {
   "cell_type": "code",
   "execution_count": 10,
   "metadata": {},
   "outputs": [
    {
     "name": "stdout",
     "output_type": "stream",
     "text": [
      "\n",
      "Columnas categóricas:\n",
      " Index(['abbreviation', 'landarea(km2)', 'armedforcessize', 'capital/majorcity',\n",
      "       'co2-emissions', 'cpi', 'currency-code', 'gasolineprice', 'gdp',\n",
      "       'largestcity', 'minimumwage', 'officiallanguage', 'population',\n",
      "       'urban_population', 'longitude', 'latitude'],\n",
      "      dtype='object')\n",
      "\n",
      "Cantidad de valores nulos por columna (categóricas):\n",
      " abbreviation          7\n",
      "landarea(km2)         1\n",
      "armedforcessize      24\n",
      "capital/majorcity     3\n",
      "co2-emissions         7\n",
      "cpi                  17\n",
      "currency-code        15\n",
      "gasolineprice        20\n",
      "gdp                   2\n",
      "largestcity           6\n",
      "minimumwage          45\n",
      "officiallanguage      5\n",
      "population            1\n",
      "urban_population      5\n",
      "longitude             0\n",
      "latitude              0\n",
      "dtype: int64\n",
      "\n",
      "Porcentaje de valores nulos por columna (categóricas):\n",
      " abbreviation          3.589744\n",
      "landarea(km2)         0.512821\n",
      "armedforcessize      12.307692\n",
      "capital/majorcity     1.538462\n",
      "co2-emissions         3.589744\n",
      "cpi                   8.717949\n",
      "currency-code         7.692308\n",
      "gasolineprice        10.256410\n",
      "gdp                   1.025641\n",
      "largestcity           3.076923\n",
      "minimumwage          23.076923\n",
      "officiallanguage      2.564103\n",
      "population            0.512821\n",
      "urban_population      2.564103\n",
      "longitude             0.000000\n",
      "latitude              0.000000\n",
      "dtype: float64\n"
     ]
    }
   ],
   "source": [
    "# Seleccionar y mostrar las columnas categóricas\n",
    "df_vf_categoricas = df_vf.select_dtypes(include=['object', 'category'])\n",
    "print(\"\\nColumnas categóricas:\\n\", df_vf_categoricas.columns)\n",
    "\n",
    "# Calcular y mostrar la cantidad de valores nulos en cada columna categórica\n",
    "nulos_por_columna_cat = df_vf_categoricas.isnull().sum()\n",
    "print(\"\\nCantidad de valores nulos por columna (categóricas):\\n\", nulos_por_columna_cat)\n",
    "\n",
    "# Calcular y mostrar el porcentaje de valores nulos en cada columna categórica\n",
    "porcentaje_nulos_cat = (nulos_por_columna_cat / df_vf.shape[0]) * 100\n",
    "print(\"\\nPorcentaje de valores nulos por columna (categóricas):\\n\", porcentaje_nulos_cat)"
   ]
  },
  {
   "cell_type": "code",
   "execution_count": 11,
   "metadata": {},
   "outputs": [
    {
     "data": {
      "text/plain": [
       "'AD'"
      ]
     },
     "execution_count": 11,
     "metadata": {},
     "output_type": "execute_result"
    }
   ],
   "source": [
    "#calcular los valores unicos de cada variable de categorica\n",
    "\n",
    "df_vf['abbreviation'].mode()[0]"
   ]
  },
  {
   "cell_type": "code",
   "execution_count": 12,
   "metadata": {},
   "outputs": [
    {
     "data": {
      "text/plain": [
       "'0'"
      ]
     },
     "execution_count": 12,
     "metadata": {},
     "output_type": "execute_result"
    }
   ],
   "source": [
    "df_vf['landarea(km2)'].mode()[0]"
   ]
  },
  {
   "cell_type": "code",
   "execution_count": 13,
   "metadata": {},
   "outputs": [
    {
     "data": {
      "text/plain": [
       "'2,000'"
      ]
     },
     "execution_count": 13,
     "metadata": {},
     "output_type": "execute_result"
    }
   ],
   "source": [
    "df_vf['armedforcessize'].mode()[0]"
   ]
  },
  {
   "cell_type": "code",
   "execution_count": 14,
   "metadata": {},
   "outputs": [
    {
     "name": "stdout",
     "output_type": "stream",
     "text": [
      "Moda de la columna 'abbreviation': AD\n",
      "Moda de la columna 'agriculturalland(%)': 39.11755319148936\n",
      "Moda de la columna 'landarea(km2)': 0\n",
      "Moda de la columna 'armedforcessize': 2,000\n",
      "Moda de la columna 'birthrate': 20.214973544973542\n",
      "Moda de la columna 'callingcode': 1.0\n",
      "Moda de la columna 'capital/majorcity': Abu Dhabi\n",
      "Moda de la columna 'co2-emissions': 143\n",
      "Moda de la columna 'cpi': 106.58\n",
      "Moda de la columna 'cpichange(%)': 6.722346368715083\n",
      "Moda de la columna 'currency-code': EUR\n",
      "Moda de la columna 'fertilityrate': 2.6981382978723403\n",
      "Moda de la columna 'forestedarea(%)': 32.01542553191489\n",
      "Moda de la columna 'gasolineprice': $0.71 \n",
      "Moda de la columna 'gdp': $1,050,992,593 \n",
      "Moda de la columna 'grossprimaryeducationenrollment(%)': 102.47021276595748\n",
      "Moda de la columna 'grosstertiaryeducationenrollment(%)': 37.96338797814208\n",
      "Moda de la columna 'infantmortality': 21.33280423280424\n",
      "Moda de la columna 'largestcity': S����\n",
      "Moda de la columna 'lifeexpectancy': 72.27967914438503\n",
      "Moda de la columna 'maternalmortalityratio': 160.39226519337018\n",
      "Moda de la columna 'minimumwage': $0.41 \n",
      "Moda de la columna 'officiallanguage': English\n",
      "Moda de la columna 'outofpockethealthexpenditure': 32.6372340425532\n",
      "Moda de la columna 'physiciansperthousand': 1.8398404255319147\n",
      "Moda de la columna 'population': 1,093,238\n",
      "Moda de la columna 'populationlaborforceparticipation(%)': 62.73806818181818\n",
      "Moda de la columna 'taxrevenue(%)': 16.57396449704142\n",
      "Moda de la columna 'totaltaxrate': 40.822404371584696\n",
      "Moda de la columna 'unemploymentrate': 6.886363636363637\n",
      "Moda de la columna 'urban_population': 1,135,502\n",
      "Moda de la columna 'longitude': ('-0.023559 '\n",
      "Moda de la columna 'latitude':  '-1.023194')\n"
     ]
    }
   ],
   "source": [
    "for col in df_vf.columns:  \n",
    "   moda=df_vf[col].mode()[0] \n",
    "   print(f\"Moda de la columna '{col}': {moda}\")"
   ]
  },
  {
   "cell_type": "code",
   "execution_count": 15,
   "metadata": {},
   "outputs": [
    {
     "name": "stdout",
     "output_type": "stream",
     "text": [
      "La distribución de las categorías para la columna ABBREVIATION\n"
     ]
    },
    {
     "data": {
      "text/plain": [
       "abbreviation\n",
       "AF    0.005128\n",
       "PY    0.005128\n",
       "NE    0.005128\n",
       "NG    0.005128\n",
       "KP    0.005128\n",
       "        ...   \n",
       "GR    0.005128\n",
       "GD    0.005128\n",
       "GT    0.005128\n",
       "GN    0.005128\n",
       "ZW    0.005128\n",
       "Name: count, Length: 188, dtype: float64"
      ]
     },
     "metadata": {},
     "output_type": "display_data"
    },
    {
     "name": "stdout",
     "output_type": "stream",
     "text": [
      "........................\n",
      "La distribución de las categorías para la columna LANDAREA(KM2)\n"
     ]
    },
    {
     "data": {
      "text/plain": [
       "landarea(km2)\n",
       "652,230      0.005128\n",
       "616          0.005128\n",
       "268,838      0.005128\n",
       "130,370      0.005128\n",
       "1,267,000    0.005128\n",
       "               ...   \n",
       "349          0.005128\n",
       "108,889      0.005128\n",
       "245,857      0.005128\n",
       "36,125       0.005128\n",
       "390,757      0.005128\n",
       "Name: count, Length: 194, dtype: float64"
      ]
     },
     "metadata": {},
     "output_type": "display_data"
    },
    {
     "name": "stdout",
     "output_type": "stream",
     "text": [
      "........................\n",
      "La distribución de las categorías para la columna ARMEDFORCESSIZE\n"
     ]
    },
    {
     "data": {
      "text/plain": [
       "armedforcessize\n",
       "2,000        0.035897\n",
       "1,000        0.030769\n",
       "16,000       0.025641\n",
       "9,000        0.025641\n",
       "4,000        0.025641\n",
       "               ...   \n",
       "3,031,000    0.005128\n",
       "43,000       0.005128\n",
       "146,000      0.005128\n",
       "180,000      0.005128\n",
       "51,000       0.005128\n",
       "Name: count, Length: 105, dtype: float64"
      ]
     },
     "metadata": {},
     "output_type": "display_data"
    },
    {
     "name": "stdout",
     "output_type": "stream",
     "text": [
      "........................\n",
      "La distribución de las categorías para la columna CAPITAL/MAJORCITY\n"
     ]
    },
    {
     "data": {
      "text/plain": [
       "capital/majorcity\n",
       "Kabul                    0.005128\n",
       "Tirana                   0.005128\n",
       "Wellington               0.005128\n",
       "Managua                  0.005128\n",
       "Niamey                   0.005128\n",
       "                           ...   \n",
       "Athens                   0.005128\n",
       "St. George's, Grenada    0.005128\n",
       "Guatemala City           0.005128\n",
       "Conakry                  0.005128\n",
       "Harare                   0.005128\n",
       "Name: count, Length: 192, dtype: float64"
      ]
     },
     "metadata": {},
     "output_type": "display_data"
    },
    {
     "name": "stdout",
     "output_type": "stream",
     "text": [
      "........................\n",
      "La distribución de las categorías para la columna CO2-EMISSIONS\n"
     ]
    },
    {
     "data": {
      "text/plain": [
       "co2-emissions\n",
       "143       0.010256\n",
       "495       0.010256\n",
       "28,284    0.010256\n",
       "2,017     0.010256\n",
       "7,407     0.005128\n",
       "            ...   \n",
       "16,670    0.005128\n",
       "62,434    0.005128\n",
       "268       0.005128\n",
       "16,777    0.005128\n",
       "10,983    0.005128\n",
       "Name: count, Length: 184, dtype: float64"
      ]
     },
     "metadata": {},
     "output_type": "display_data"
    },
    {
     "name": "stdout",
     "output_type": "stream",
     "text": [
      "........................\n",
      "La distribución de las categorías para la columna CPI\n"
     ]
    },
    {
     "data": {
      "text/plain": [
       "cpi\n",
       "110.62    0.010256\n",
       "99.55     0.010256\n",
       "106.58    0.010256\n",
       "149.9     0.005128\n",
       "114.24    0.005128\n",
       "            ...   \n",
       "112.85    0.005128\n",
       "268.36    0.005128\n",
       "101.87    0.005128\n",
       "107.43    0.005128\n",
       "105.51    0.005128\n",
       "Name: count, Length: 175, dtype: float64"
      ]
     },
     "metadata": {},
     "output_type": "display_data"
    },
    {
     "name": "stdout",
     "output_type": "stream",
     "text": [
      "........................\n",
      "La distribución de las categorías para la columna CURRENCY-CODE\n"
     ]
    },
    {
     "data": {
      "text/plain": [
       "currency-code\n",
       "EUR    0.117949\n",
       "XOF    0.041026\n",
       "XCD    0.030769\n",
       "USD    0.030769\n",
       "XAF    0.025641\n",
       "         ...   \n",
       "GMD    0.005128\n",
       "FJD    0.005128\n",
       "ETB    0.005128\n",
       "ERN    0.005128\n",
       "ZMW    0.005128\n",
       "Name: count, Length: 133, dtype: float64"
      ]
     },
     "metadata": {},
     "output_type": "display_data"
    },
    {
     "name": "stdout",
     "output_type": "stream",
     "text": [
      "........................\n",
      "La distribución de las categorías para la columna GASOLINEPRICE\n"
     ]
    },
    {
     "data": {
      "text/plain": [
       "gasolineprice\n",
       "$0.71     0.030769\n",
       "$1.16     0.025641\n",
       "$0.92     0.025641\n",
       "$1.12     0.020513\n",
       "$0.98     0.020513\n",
       "            ...   \n",
       "$1.74     0.005128\n",
       "$1.19     0.005128\n",
       "$1.55     0.005128\n",
       "$0.43     0.005128\n",
       "$1.34     0.005128\n",
       "Name: count, Length: 101, dtype: float64"
      ]
     },
     "metadata": {},
     "output_type": "display_data"
    },
    {
     "name": "stdout",
     "output_type": "stream",
     "text": [
      "........................\n",
      "La distribución de las categorías para la columna GDP\n"
     ]
    },
    {
     "data": {
      "text/plain": [
       "gdp\n",
       "$19,101,353,833      0.005128\n",
       "$6,552,858,739       0.005128\n",
       "$12,520,915,291      0.005128\n",
       "$12,928,145,120      0.005128\n",
       "$448,120,428,859     0.005128\n",
       "                       ...   \n",
       "$1,228,170,370       0.005128\n",
       "$76,710,385,880      0.005128\n",
       "$13,590,281,809      0.005128\n",
       "$1,340,389,411       0.005128\n",
       "$21,440,758,800      0.005128\n",
       "Name: count, Length: 193, dtype: float64"
      ]
     },
     "metadata": {},
     "output_type": "display_data"
    },
    {
     "name": "stdout",
     "output_type": "stream",
     "text": [
      "........................\n",
      "La distribución de las categorías para la columna LARGESTCITY\n"
     ]
    },
    {
     "data": {
      "text/plain": [
       "largestcity\n",
       "S����                    0.010256\n",
       "Panama City              0.005128\n",
       "Managua                  0.005128\n",
       "Niamey                   0.005128\n",
       "Lagos                    0.005128\n",
       "                           ...   \n",
       "Macedonia                0.005128\n",
       "St. George's, Grenada    0.005128\n",
       "Guatemala City           0.005128\n",
       "Kankan                   0.005128\n",
       "Harare                   0.005128\n",
       "Name: count, Length: 188, dtype: float64"
      ]
     },
     "metadata": {},
     "output_type": "display_data"
    },
    {
     "name": "stdout",
     "output_type": "stream",
     "text": [
      "........................\n",
      "La distribución de las categorías para la columna MINIMUMWAGE\n"
     ]
    },
    {
     "data": {
      "text/plain": [
       "minimumwage\n",
       "$0.41      0.015385\n",
       "$2.00      0.015385\n",
       "$2.25      0.010256\n",
       "$0.88      0.010256\n",
       "$0.36      0.010256\n",
       "             ...   \n",
       "$1.46      0.005128\n",
       "$11.16     0.005128\n",
       "$3.14      0.005128\n",
       "$1.05      0.005128\n",
       "$0.73      0.005128\n",
       "Name: count, Length: 114, dtype: float64"
      ]
     },
     "metadata": {},
     "output_type": "display_data"
    },
    {
     "name": "stdout",
     "output_type": "stream",
     "text": [
      "........................\n",
      "La distribución de las categorías para la columna OFFICIALLANGUAGE\n"
     ]
    },
    {
     "data": {
      "text/plain": [
       "officiallanguage\n",
       "English             0.158974\n",
       "French              0.128205\n",
       "Spanish             0.097436\n",
       "Arabic              0.092308\n",
       "Portuguese          0.035897\n",
       "                      ...   \n",
       "Albanian            0.005128\n",
       "Jamaican English    0.005128\n",
       "Lao                 0.005128\n",
       "Latvian             0.005128\n",
       "Shona               0.005128\n",
       "Name: count, Length: 76, dtype: float64"
      ]
     },
     "metadata": {},
     "output_type": "display_data"
    },
    {
     "name": "stdout",
     "output_type": "stream",
     "text": [
      "........................\n",
      "La distribución de las categorías para la columna POPULATION\n"
     ]
    },
    {
     "data": {
      "text/plain": [
       "population\n",
       "38,041,754    0.005128\n",
       "182,790       0.005128\n",
       "4,841,000     0.005128\n",
       "6,545,502     0.005128\n",
       "23,310,715    0.005128\n",
       "                ...   \n",
       "112,003       0.005128\n",
       "16,604,026    0.005128\n",
       "12,771,246    0.005128\n",
       "1,920,922     0.005128\n",
       "14,645,468    0.005128\n",
       "Name: count, Length: 194, dtype: float64"
      ]
     },
     "metadata": {},
     "output_type": "display_data"
    },
    {
     "name": "stdout",
     "output_type": "stream",
     "text": [
      "........................\n",
      "La distribución de las categorías para la columna URBAN_POPULATION\n"
     ]
    },
    {
     "data": {
      "text/plain": [
       "urban_population\n",
       "9,797,273      0.005128\n",
       "1,162,834      0.005128\n",
       "3,846,137      0.005128\n",
       "3,850,231      0.005128\n",
       "102,806,948    0.005128\n",
       "                 ...   \n",
       "8,507,474      0.005128\n",
       "40,765         0.005128\n",
       "8,540,945      0.005128\n",
       "4,661,505      0.005128\n",
       "4,717,305      0.005128\n",
       "Name: count, Length: 190, dtype: float64"
      ]
     },
     "metadata": {},
     "output_type": "display_data"
    },
    {
     "name": "stdout",
     "output_type": "stream",
     "text": [
      "........................\n",
      "La distribución de las categorías para la columna LONGITUDE\n"
     ]
    },
    {
     "data": {
      "text/plain": [
       "longitude\n",
       "('33.93911 '      0.005128\n",
       "('13.909444 '     0.005128\n",
       "('12.865416 '     0.005128\n",
       "('17.607789 '     0.005128\n",
       "('9.081999 '      0.005128\n",
       "                    ...   \n",
       "('12.1165 '       0.005128\n",
       "('15.783471 '     0.005128\n",
       "('9.945587 '      0.005128\n",
       "('11.803749 '     0.005128\n",
       "('-19.015438 '    0.005128\n",
       "Name: count, Length: 195, dtype: float64"
      ]
     },
     "metadata": {},
     "output_type": "display_data"
    },
    {
     "name": "stdout",
     "output_type": "stream",
     "text": [
      "........................\n",
      "La distribución de las categorías para la columna LATITUDE\n"
     ]
    },
    {
     "data": {
      "text/plain": [
       "latitude\n",
       "'67.709953')     0.005128\n",
       "'-60.978893')    0.005128\n",
       "'-85.207229')    0.005128\n",
       "'8.081666')      0.005128\n",
       "'8.675277')      0.005128\n",
       "                   ...   \n",
       "'-61.679')       0.005128\n",
       "'-90.230759')    0.005128\n",
       "'-9.696645')     0.005128\n",
       "'-15.180413')    0.005128\n",
       "'29.154857')     0.005128\n",
       "Name: count, Length: 195, dtype: float64"
      ]
     },
     "metadata": {},
     "output_type": "display_data"
    },
    {
     "name": "stdout",
     "output_type": "stream",
     "text": [
      "........................\n"
     ]
    }
   ],
   "source": [
    "for col in df_vf_categoricas:\n",
    "    print(f\"La distribución de las categorías para la columna {col.upper()}\")\n",
    "    display(df_vf_categoricas[col].value_counts() / df_vf_categoricas.shape[0])  # display es una función utilizada para mostrar objetos de manera más legible en Jupyter Notebooks o entornos similares.\n",
    "    print(\"........................\")"
   ]
  },
  {
   "cell_type": "code",
   "execution_count": 31,
   "metadata": {},
   "outputs": [
    {
     "name": "stdout",
     "output_type": "stream",
     "text": [
      "Archivo CSV 'df_vf_modificado.csv' guardado con éxito.\n",
      "\n",
      "     density(p/km2) abbreviation  agriculturalland(%)  landarea(km2)  \\\n",
      "0              60.0           AF                 58.1       652230.0   \n",
      "1             105.0           AL                 43.1        28748.0   \n",
      "2              18.0           DZ                 17.4      2381741.0   \n",
      "3             164.0           AD                 40.0          468.0   \n",
      "4              26.0           AO                 47.5      1246700.0   \n",
      "..              ...          ...                  ...            ...   \n",
      "190            32.0           VE                 24.5       912050.0   \n",
      "191           314.0           VN                 39.3       331210.0   \n",
      "192            56.0           YE                 44.6       527968.0   \n",
      "193            25.0           ZM                 32.1       752618.0   \n",
      "194            38.0           ZW                 41.9       390757.0   \n",
      "\n",
      "     armedforcessize  birthrate  callingcode capital/majorcity  co2-emissions  \\\n",
      "0           323000.0      32.49         93.0             Kabul         8672.0   \n",
      "1             9000.0      11.78        355.0            Tirana         4536.0   \n",
      "2           317000.0      24.28        213.0           Algiers       150006.0   \n",
      "3            31000.0       7.20        376.0  Andorra la Vella          469.0   \n",
      "4           117000.0      40.73        244.0            Luanda        34693.0   \n",
      "..               ...        ...          ...               ...            ...   \n",
      "190         343000.0      17.88         58.0           Caracas       164175.0   \n",
      "191         522000.0      16.75         84.0             Hanoi       192668.0   \n",
      "192          40000.0      30.45        967.0             Sanaa        10609.0   \n",
      "193          16000.0      36.19        260.0            Lusaka         5141.0   \n",
      "194          51000.0      30.68        263.0            Harare        10983.0   \n",
      "\n",
      "         cpi  cpichange(%) currency-code  fertilityrate  forestedarea(%)  \\\n",
      "0     149.90      2.300000           AFN           4.47              2.1   \n",
      "1     119.05      1.400000           ALL           1.62             28.1   \n",
      "2     151.36      2.000000           DZD           3.02              0.8   \n",
      "3     125.34      6.722346           EUR           1.27             34.0   \n",
      "4     261.73     17.100000           AOA           5.52             46.3   \n",
      "..       ...           ...           ...            ...              ...   \n",
      "190  2740.27    254.900000           VED           2.27             52.7   \n",
      "191   163.52      2.800000           VND           2.05             48.1   \n",
      "192   157.58      8.100000           YER           3.79              1.0   \n",
      "193   212.31      9.200000           ZMW           4.63             65.2   \n",
      "194   105.51      0.900000       Unknown           3.62             35.5   \n",
      "\n",
      "     gasolineprice           gdp  grossprimaryeducationenrollment(%)  \\\n",
      "0             0.70  1.910135e+10                               104.0   \n",
      "1             1.36  1.527808e+10                               107.0   \n",
      "2             0.28  1.699882e+11                               109.9   \n",
      "3             1.51  3.154058e+09                               106.4   \n",
      "4             0.97  9.463542e+10                               113.5   \n",
      "..             ...           ...                                 ...   \n",
      "190           0.00  4.823593e+11                                97.2   \n",
      "191           0.80  2.619212e+11                               110.6   \n",
      "192           0.92  2.691440e+10                                93.6   \n",
      "193           1.40  2.306472e+10                                98.7   \n",
      "194           1.34  2.144076e+10                               109.9   \n",
      "\n",
      "     grosstertiaryeducationenrollment(%)  infantmortality       largestcity  \\\n",
      "0                               9.700000             47.9             Kabul   \n",
      "1                              55.000000              7.8            Tirana   \n",
      "2                              51.400000             20.1           Algiers   \n",
      "3                              37.963388              2.7  Andorra la Vella   \n",
      "4                               9.300000             51.6            Luanda   \n",
      "..                                   ...              ...               ...   \n",
      "190                            79.300000             21.4           Caracas   \n",
      "191                            28.500000             16.5  Ho Chi Minh City   \n",
      "192                            10.200000             42.9             Sanaa   \n",
      "193                             4.100000             40.4            Lusaka   \n",
      "194                            10.000000             33.9            Harare   \n",
      "\n",
      "     lifeexpectancy  maternalmortalityratio  minimumwage officiallanguage  \\\n",
      "0         64.500000              638.000000        0.430           Pashto   \n",
      "1         78.500000               15.000000        1.120         Albanian   \n",
      "2         76.700000              112.000000        0.950           Arabic   \n",
      "3         72.279679              160.392265        6.630          Catalan   \n",
      "4         60.800000              241.000000        0.710       Portuguese   \n",
      "..              ...                     ...          ...              ...   \n",
      "190       72.100000              125.000000        0.010          Spanish   \n",
      "191       75.300000               43.000000        0.730       Vietnamese   \n",
      "192       66.100000              164.000000        1.045           Arabic   \n",
      "193       63.500000              213.000000        0.240          English   \n",
      "194       61.200000              458.000000        1.045            Shona   \n",
      "\n",
      "     outofpockethealthexpenditure  physiciansperthousand  population  \\\n",
      "0                            78.4                   0.28  38041754.0   \n",
      "1                            56.9                   1.20   2854191.0   \n",
      "2                            28.1                   1.72  43053054.0   \n",
      "3                            36.4                   3.33     77142.0   \n",
      "4                            33.4                   0.21  31825295.0   \n",
      "..                            ...                    ...         ...   \n",
      "190                          45.8                   1.92  28515829.0   \n",
      "191                          43.5                   0.82  96462106.0   \n",
      "192                          81.0                   0.31  29161922.0   \n",
      "193                          27.5                   1.19  17861030.0   \n",
      "194                          25.8                   0.21  14645468.0   \n",
      "\n",
      "     populationlaborforceparticipation(%)  taxrevenue(%)  totaltaxrate  \\\n",
      "0                               48.900000       9.300000     71.400000   \n",
      "1                               55.700000      18.600000     36.600000   \n",
      "2                               41.200000      37.200000     66.100000   \n",
      "3                               62.738068      16.573964     40.822404   \n",
      "4                               77.500000       9.200000     49.100000   \n",
      "..                                    ...            ...           ...   \n",
      "190                             59.700000      16.573964     73.300000   \n",
      "191                             77.400000      19.100000     37.600000   \n",
      "192                             38.000000      16.573964     26.600000   \n",
      "193                             74.600000      16.200000     15.600000   \n",
      "194                             83.100000      20.700000     31.600000   \n",
      "\n",
      "     unemploymentrate  urban_population  longitude    latitude  \n",
      "0           11.120000         9797273.0  33.939110   67.709953  \n",
      "1           12.330000         1747593.0  41.153332   20.168331  \n",
      "2           11.700000        31510100.0  28.033886    1.659626  \n",
      "3            6.886364           67873.0  42.506285    1.521801  \n",
      "4            6.890000        21061025.0 -11.202692   17.873887  \n",
      "..                ...               ...        ...         ...  \n",
      "190          8.800000        25162368.0   6.423750  -66.589730  \n",
      "191          2.010000        35332140.0  14.058324  108.277199  \n",
      "192         12.910000        10869523.0  15.552727   48.516388  \n",
      "193         11.430000         7871713.0 -13.133897   27.849332  \n",
      "194          4.950000         4717305.0 -19.015438   29.154857  \n",
      "\n",
      "[195 rows x 34 columns]\n"
     ]
    }
   ],
   "source": [
    "import pandas as pd\n",
    "\n",
    "# Leer el archivo CSV\n",
    "df = pd.read_csv('df_vf_modificado.csv')\n",
    "\n",
    "# Definir columnas categóricas y numéricas\n",
    "columnas_categoricas = ['abbreviation', 'capital/majorcity', 'currency-code', 'largestcity', 'officiallanguage']\n",
    "columnas_numericas = ['density(p/km2)', 'agriculturalland(%)', 'landarea(km2)', 'armedforcessize', 'birthrate', 'callingcode', \n",
    "                      'co2-emissions', 'cpi', 'cpichange(%)', 'fertilityrate', 'forestedarea(%)', 'gasolineprice', 'gdp', \n",
    "                      'grossprimaryeducationenrollment(%)', 'grosstertiaryeducationenrollment(%)', 'infantmortality', 'lifeexpectancy', \n",
    "                      'maternalmortalityratio', 'minimumwage', 'outofpockethealthexpenditure', 'physiciansperthousand', 'population', \n",
    "                      'populationlaborforceparticipation(%)', 'taxrevenue(%)', 'totaltaxrate', 'unemploymentrate', 'urban_population', \n",
    "                      'longitude', 'latitude']\n",
    "\n",
    "# Asegurarse de que las columnas categóricas y numéricas estén en el dataframe\n",
    "columnas_categoricas = [col for col in columnas_categoricas if col in df.columns]\n",
    "columnas_numericas = [col for col in columnas_numericas if col in df.columns]\n",
    "\n",
    "# Función para limpiar valores numéricos\n",
    "def limpiar_valores(valor):\n",
    "    if isinstance(valor, str):\n",
    "        # Eliminar caracteres no deseados y convertir a float\n",
    "        try:\n",
    "            return float(valor.replace(',', '').replace('$', '').replace(' ', '').replace('(', '').replace(')', '').replace(\"'\", ''))\n",
    "        except ValueError:\n",
    "            return None\n",
    "    elif isinstance(valor, (int, float)):\n",
    "        return valor\n",
    "    else:\n",
    "        return None\n",
    "\n",
    "# Limpiar y convertir columnas numéricas\n",
    "for columna in columnas_numericas:\n",
    "    df[columna] = df[columna].apply(limpiar_valores)\n",
    "\n",
    "# Imputar valores nulos para columnas categóricas con 'Unknown' o la moda\n",
    "for columna in columnas_categoricas:\n",
    "    if df[columna].isnull().mean() < 0.05:  # Menos del 5% de valores nulos\n",
    "        df[columna] = df[columna].fillna(df[columna].mode()[0])\n",
    "    else:  # Más del 5% de valores nulos\n",
    "        df[columna] = df[columna].fillna('Unknown')\n",
    "\n",
    "# Imputar valores nulos para columnas numéricas con la mediana\n",
    "for columna in columnas_numericas:\n",
    "    df[columna] = df[columna].fillna(df[columna].median())\n",
    "\n",
    "# Guardar el DataFrame modificado en un nuevo archivo CSV\n",
    "df.to_csv('df_vf_modificado.csv', index=False)\n",
    "\n",
    "print(\"Archivo CSV 'df_vf_modificado.csv' guardado con éxito.\\n\")\n",
    "\n",
    "print(df)\n"
   ]
  }
 ],
 "metadata": {
  "kernelspec": {
   "display_name": "Python 3",
   "language": "python",
   "name": "python3"
  },
  "language_info": {
   "codemirror_mode": {
    "name": "ipython",
    "version": 3
   },
   "file_extension": ".py",
   "mimetype": "text/x-python",
   "name": "python",
   "nbconvert_exporter": "python",
   "pygments_lexer": "ipython3",
   "version": "3.11.8"
  }
 },
 "nbformat": 4,
 "nbformat_minor": 2
}
