{
 "cells": [
  {
   "cell_type": "code",
   "execution_count": null,
   "metadata": {},
   "outputs": [],
   "source": [
    "##Creación y Indexación\n",
    "#SECTION - 1. Crea un array 1D con 50 valores aleatorio del 10 al 99. Accede a los elementos en las posiciones múltiplos de 5"
   ]
  },
  {
   "cell_type": "code",
   "execution_count": null,
   "metadata": {},
   "outputs": [],
   "source": [
    "import numpy as np"
   ]
  },
  {
   "cell_type": "code",
   "execution_count": null,
   "metadata": {},
   "outputs": [],
   "source": [
    "# Crear un array 1D con 50 valores aleatorios entre 10 y 99\n",
    "array_1d = np.random.randint(10, 100, 50)\n",
    "\n",
    "# Acceder a los elementos en las posiciones múltiplos de 5\n",
    "multiples_of_5 = array_1d[::5]\n",
    "\n",
    "# Mostrar el array completo y los elementos en posiciones múltiplos de 5\n",
    "print(\"Array 1D completo:\")\n",
    "print(array_1d)\n",
    "print(\"\\nElementos en posiciones múltiplos de 5:\")\n",
    "print(multiples_of_5)"
   ]
  },
  {
   "cell_type": "code",
   "execution_count": null,
   "metadata": {},
   "outputs": [],
   "source": [
    "# 2. Crear un array 1D con 30 valores del 1 al 20 (ambos incluidos)\n",
    "array_1d = np.random.randint(1, 21,size=30)\n",
    "\n",
    "# Acceder a los elementos en las posiciones impares\n",
    "impar_indices_elements = array_1d[1::2]\n",
    "\n",
    "# Mostrar el array completo y los elementos en posiciones impares\n",
    "print(\"Array 1D completo:\")\n",
    "print(array_1d)\n",
    "print(\"\\nElementos en posiciones impares:\")\n",
    "print(impar_indices_elements)"
   ]
  },
  {
   "cell_type": "code",
   "execution_count": null,
   "metadata": {},
   "outputs": [],
   "source": [
    "# 3. Crea un array 2D de forma (4, 6) con números aleatorios decimales (no deben estarcomprendidos solo entre 0 y 1). Accede a la última fila de la matriz. Los decimalesdeben estar redondeados a 2 decimales."
   ]
  },
  {
   "cell_type": "code",
   "execution_count": null,
   "metadata": {},
   "outputs": [],
   "source": [
    "\n",
    "\n",
    "# Crear un array 2D de forma (4, 6) con números aleatorios decimales entre 10 y 99\n",
    "array_2d = np.random.uniform(10, 100, size=(4, 6))\n",
    "\n",
    "# Redondear los decimales a 2 decimales\n",
    "array_2d = np.round(array_2d, 2)\n",
    "\n",
    "# Acceder a la última fila de la matriz\n",
    "ultima_fila = array_2d[-1]\n",
    "\n",
    "# Mostrar el array completo y la última fila\n",
    "print(\"Array 2D completo:\")\n",
    "print(array_2d)\n",
    "print(\"\\nÚltima fila de la matriz:\")\n",
    "print(ultima_fila)\n"
   ]
  },
  {
   "cell_type": "code",
   "execution_count": null,
   "metadata": {},
   "outputs": [],
   "source": [
    "# Crear un array 3D de forma (2, 3, 5) con números enteros entre 0 y 100 (ambos incluidos)\n",
    "array_3d = np.random.randint(0, 101, size=(2, 3, 5))\n",
    "\n",
    "# Aplanar el array para identificar las posiciones múltiplos de 3\n",
    "flattened_array = array_3d.flatten()\n",
    "\n",
    "# Identificar las posiciones múltiplos de 3\n",
    "multiples_of_3_indices = np.arange(len(flattened_array))[::3]\n",
    "\n",
    "# Reemplazar los valores en esas posiciones por 0.1\n",
    "flattened_array[multiples_of_3_indices] = 0.1\n",
    "\n",
    "# Reformar el array a su forma original\n",
    "array_3d_modified = flattened_array.reshape((2, 3, 5))\n",
    "\n",
    "# Mostrar el array original y el array modificado\n",
    "print(\"Array 3D original:\")\n",
    "print(array_3d)\n",
    "print(\"\\nArray 3D modificado:\")\n",
    "print(array_3d_modified)"
   ]
  },
  {
   "cell_type": "code",
   "execution_count": null,
   "metadata": {},
   "outputs": [],
   "source": [
    "##2. Reshape y Transpose\n",
    "# Reshape\n",
    "#1. Crea un array 3D de forma (2, 3, 4) con valores aleatorios entre 1 y 100 (ambosinclusive). Utiliza reshape para convertirlo en un array 2D. Deberás pensar en laforma que es correcta para hacer este cambio"
   ]
  },
  {
   "cell_type": "code",
   "execution_count": null,
   "metadata": {},
   "outputs": [],
   "source": [
    "\n",
    "# Crear un array 3D de forma (2, 3, 4) con valores aleatorios entre 1 y 100 (ambos incluidos)\n",
    "array_3d = np.random.randint(1, 101, size=(2, 3, 4))\n",
    "\n",
    "# Convertir el array 3D en un array 2D utilizando reshape\n",
    "# La forma 2D podría ser (6, 4) o (4, 6) ya que 2*3*4 = 24\n",
    "array_2d = array_3d.reshape(6, 4)\n",
    "\n",
    "# Mostrar el array original y el array convertido\n",
    "print(\"Array 3D original:\")\n",
    "print(array_3d)\n",
    "print(\"\\nArray 2D convertido:\")\n",
    "print(array_2d)\n"
   ]
  },
  {
   "cell_type": "code",
   "execution_count": null,
   "metadata": {},
   "outputs": [],
   "source": [
    "array_2d = array_3d.reshape(4, 6)"
   ]
  },
  {
   "cell_type": "code",
   "execution_count": null,
   "metadata": {},
   "outputs": [],
   "source": [
    "#2. Crea un array 3D de forma (3, 4, 5) con valores enteros del 1 al 61 (sin incluir). Utilizareshape para convertirlo en un array"
   ]
  },
  {
   "cell_type": "code",
   "execution_count": null,
   "metadata": {},
   "outputs": [],
   "source": [
    "\n",
    "\n",
    "# Crear un array 3D de forma (3, 4, 5) con valores enteros del 1 al 61 (sin incluir)\n",
    "array_3d = np.arange(1, 61).reshape(3, 4, 5)\n",
    "\n",
    "# Convertir el array 3D en un array 2D utilizando reshape\n",
    "# La nueva forma 2D debe tener el mismo número de elementos (3 * 4 * 5 = 60)\n",
    "array_2d = array_3d.reshape(5, 12)  # Por ejemplo, (12, 5)\n",
    "\n",
    "# Mostrar el array original y el array convertido\n",
    "print(\"Array 3D original:\")\n",
    "print(array_3d)\n",
    "print(\"\\nArray 2D convertido:\")\n",
    "print(array_2d)\n"
   ]
  },
  {
   "cell_type": "markdown",
   "metadata": {},
   "source": [
    "Preguntas "
   ]
  },
  {
   "cell_type": "markdown",
   "metadata": {},
   "source": [
    "##3.Funciones Aritméticas y Estadísticas:"
   ]
  },
  {
   "cell_type": "markdown",
   "metadata": {},
   "source": [
    "1. Diferencias entre reshape y tranporse\n",
    "   Reshape- Cambiar el tamaño el arry\n",
    "   Transpose= Cambiar los datos de lugar, transponiendo filas a columnas"
   ]
  },
  {
   "cell_type": "markdown",
   "metadata": {},
   "source": [
    "2. Diferencias entre transpose y Swapaxis\n",
    "En resumen, transpose puede reordenar múltiples ejes en un nuevo orden, mientras que swapaxes se limita a intercambiar dos ejes específicos. Ambas funciones son útiles para manipular la forma y la orientación de los datos en un array multidimensional."
   ]
  },
  {
   "cell_type": "code",
   "execution_count": null,
   "metadata": {},
   "outputs": [],
   "source": [
    "# 1. Crea un array de tres 3D con elementos entre el 0 y 1 de( 2fo, r3m, a5) cuyos valores solo tengan 1 decimal."
   ]
  },
  {
   "cell_type": "code",
   "execution_count": null,
   "metadata": {},
   "outputs": [],
   "source": [
    "\n",
    "# Crear un array 3D de forma (2, 3, 5) con valores aleatorios entre 0 y 1\n",
    "array_3d = np.random.rand(2, 3, 5)\n",
    "\n",
    "# Redondear los valores a 1 decimal\n",
    "array_3d = np.round(array_3d, 1)\n",
    "\n",
    "# Mostrar el array 3D\n",
    "print(\"Array 3D con valores entre 0 y 1, redondeados a 1 decimal:\")\n",
    "print(array_3d)\n"
   ]
  },
  {
   "cell_type": "markdown",
   "metadata": {},
   "source": [
    "#2. Crea un array vacío con la misma forma y dimensiones que el array creado anteriormente. Vamos a reemplazar los valores de la matriz vacía que nos acabamos\n",
    "de crear pero basándonos en los valores del primer array bajo las siguientes\n",
    "condiciones:\n",
    "Si el valor del array es igual que la media, se reemplazAa\" .por \"\n",
    "Si el valor del array es mayor que la media, se reemplaza por \"B\".\n",
    "Si el valor del array es menor que la media, se reemplaza por \"C\".\n",
    "Si el valor es igual que el máximo, se reemplaza por \"D\".\n",
    "Si el valor es igual que el mínimo, se reemplaza por \"E\"."
   ]
  },
  {
   "cell_type": "code",
   "execution_count": 16,
   "metadata": {},
   "outputs": [
    {
     "name": "stdout",
     "output_type": "stream",
     "text": [
      "Array 3D original:\n",
      "[[[0.2 0.6 0.8 0.4 0.4]\n",
      "  [0.3 0.5 0.6 0.  0.7]\n",
      "  [0.9 0.7 0.2 0.8 0. ]]\n",
      "\n",
      " [[0.6 0.6 0.5 0.8 0.6]\n",
      "  [0.2 0.5 0.7 0.9 0.9]\n",
      "  [0.2 0.5 0.7 0.6 0.1]]]\n",
      "\n",
      "Array 3D reemplazado:\n",
      "[[['C' 'B' 'B' 'C' 'C']\n",
      "  ['C' 'C' 'B' 'E' 'B']\n",
      "  ['D' 'B' 'C' 'B' 'E']]\n",
      "\n",
      " [['B' 'B' 'C' 'B' 'B']\n",
      "  ['C' 'C' 'B' 'D' 'D']\n",
      "  ['C' 'C' 'B' 'B' 'C']]]\n"
     ]
    }
   ],
   "source": [
    "\n",
    "\n",
    "# Crear un array 3D de forma (2, 3, 5) con valores aleatorios entre 0 y 1\n",
    "array_3d = np.random.rand(2, 3, 5)\n",
    "\n",
    "# Redondear los valores a 1 decimal\n",
    "array_3d = np.round(array_3d, 1)\n",
    "\n",
    "# Crear un array vacío con la misma forma y dimensiones que el array inicial\n",
    "array_reemplazo = np.empty(array_3d.shape, dtype=str)\n",
    "\n",
    "# Calcular la media, el máximo y el mínimo del array inicial\n",
    "media = np.mean(array_3d)\n",
    "maximo = np.max(array_3d)\n",
    "minimo = np.min(array_3d)\n",
    "\n",
    "# Reemplazar los valores en el array vacío basándonos en las condiciones dadas\n",
    "array_reemplazo[array_3d == media] = 'A'\n",
    "array_reemplazo[array_3d > media] = 'B'\n",
    "array_reemplazo[array_3d < media] = 'C'\n",
    "array_reemplazo[array_3d == maximo] = 'D'\n",
    "array_reemplazo[array_3d == minimo] = 'E'\n",
    "\n",
    "# Imprimir el array original y el array reemplazado\n",
    "print(\"Array 3D original:\")\n",
    "print(array_3d)\n",
    "print(\"\\nArray 3D reemplazado:\")\n",
    "print(array_reemplazo)\n"
   ]
  },
  {
   "cell_type": "code",
   "execution_count": 19,
   "metadata": {},
   "outputs": [],
   "source": [
    "# Calcular la media, el máximo y el mínimo del array inicial\n",
    "media = np.round(np.mean(array_3d))\n",
    "\n",
    "np.round(array_3d, 1)\n",
    "\n",
    "# Crear un array vacío con la misma\n",
    "maximo = np.max(array_3d)\n",
    "minimo = np.min(array_3d)"
   ]
  },
  {
   "cell_type": "code",
   "execution_count": 20,
   "metadata": {},
   "outputs": [
    {
     "data": {
      "text/plain": [
       "1.0"
      ]
     },
     "execution_count": 20,
     "metadata": {},
     "output_type": "execute_result"
    }
   ],
   "source": [
    "media\n"
   ]
  },
  {
   "cell_type": "code",
   "execution_count": 21,
   "metadata": {},
   "outputs": [
    {
     "data": {
      "text/plain": [
       "0.9"
      ]
     },
     "execution_count": 21,
     "metadata": {},
     "output_type": "execute_result"
    }
   ],
   "source": [
    "maximo"
   ]
  },
  {
   "cell_type": "code",
   "execution_count": 22,
   "metadata": {},
   "outputs": [
    {
     "data": {
      "text/plain": [
       "0.0"
      ]
     },
     "execution_count": 22,
     "metadata": {},
     "output_type": "execute_result"
    }
   ],
   "source": [
    "minimo"
   ]
  },
  {
   "cell_type": "code",
   "execution_count": 23,
   "metadata": {},
   "outputs": [],
   "source": [
    "array_reemplazo[array_3d == media] = 'A'\n",
    "array_reemplazo[array_3d > media] = 'B'\n",
    "array_reemplazo[array_3d < media] = 'C'\n",
    "array_reemplazo[array_3d == maximo] = 'D'\n",
    "array_reemplazo[array_3d == minimo] = 'E'"
   ]
  },
  {
   "cell_type": "code",
   "execution_count": 24,
   "metadata": {},
   "outputs": [
    {
     "data": {
      "text/plain": [
       "array([[['C', 'C', 'C', 'C', 'C'],\n",
       "        ['C', 'C', 'C', 'E', 'C'],\n",
       "        ['D', 'C', 'C', 'C', 'E']],\n",
       "\n",
       "       [['C', 'C', 'C', 'C', 'C'],\n",
       "        ['C', 'C', 'C', 'D', 'D'],\n",
       "        ['C', 'C', 'C', 'C', 'C']]], dtype='<U1')"
      ]
     },
     "execution_count": 24,
     "metadata": {},
     "output_type": "execute_result"
    }
   ],
   "source": [
    "array_reemplazo"
   ]
  }
 ],
 "metadata": {
  "kernelspec": {
   "display_name": "Python 3",
   "language": "python",
   "name": "python3"
  },
  "language_info": {
   "codemirror_mode": {
    "name": "ipython",
    "version": 3
   },
   "file_extension": ".py",
   "mimetype": "text/x-python",
   "name": "python",
   "nbconvert_exporter": "python",
   "pygments_lexer": "ipython3",
   "version": "3.12.3"
  }
 },
 "nbformat": 4,
 "nbformat_minor": 2
}
