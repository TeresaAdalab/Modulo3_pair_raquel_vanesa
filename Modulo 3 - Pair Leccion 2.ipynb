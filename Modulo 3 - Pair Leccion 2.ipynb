{
 "cells": [
  {
   "cell_type": "code",
   "execution_count": 51,
   "metadata": {},
   "outputs": [],
   "source": [
    "import pandas as pd\n",
    "\n",
    "import random \n",
    "\n",
    "import numpy as np"
   ]
  },
  {
   "cell_type": "code",
   "execution_count": 52,
   "metadata": {},
   "outputs": [],
   "source": [
    "\n",
    "# 1¿Qué diferencia hay entre una Serie y un DataFrame?"
   ]
  },
  {
   "cell_type": "code",
   "execution_count": 53,
   "metadata": {},
   "outputs": [
    {
     "name": "stdout",
     "output_type": "stream",
     "text": [
      "Valores: [38, 36, 40, 95, 34, 64, 13]\n",
      "Indices: ['Lunes', 'Martes', 'Miércoles', 'Jueves', 'Viernes', 'Sábado', 'Domingo']\n"
     ]
    }
   ],
   "source": [
    "\n",
    "#2. Momento de trabajar con Series. Contesta a las siguientes preguntas:\n",
    "\n",
    "#2.A Crea dos listas:\n",
    "\n",
    "#Una que se llame \"valores\" que tenga 7 números aleatorios.\n",
    "\n",
    "#Otra que se llame \"indices\" que tenga 7 strings que se llamen como los días de la semana\n",
    "import random\n",
    "\n",
    "# Crear una lista llamada \"valores\" con 7 números aleatorios\n",
    "valores = np.random.randint(1,100,7).tolist ()\n",
    "\n",
    "# Crear una lista llamada \"indices\" con 7 strings que se llamen como los días de la semana\n",
    "indices = [\"Lunes\", \"Martes\", \"Miércoles\", \"Jueves\", \"Viernes\", \"Sábado\", \"Domingo\"]\n",
    "\n",
    "print(\"Valores:\", valores)\n",
    "print(\"Indices:\", indices)\n"
   ]
  },
  {
   "cell_type": "code",
   "execution_count": 54,
   "metadata": {},
   "outputs": [
    {
     "name": "stdout",
     "output_type": "stream",
     "text": [
      "Serie:\n",
      "Lunes        38\n",
      "Martes       36\n",
      "Miércoles    40\n",
      "Jueves       95\n",
      "Viernes      34\n",
      "Sábado       64\n",
      "Domingo      13\n",
      "dtype: int64\n"
     ]
    }
   ],
   "source": [
    "#2.A partir de estas dos listas crea una Serie donde la variable \"valores\" sean los valores de la Serie y la variable indices sean los índices de la Serie.\n",
    "\n",
    "# Crear la Serie\n",
    "serie = pd.Series(valores, index=indices)\n",
    "\n",
    "# Imprimir la Serie\n",
    "print(\"Serie:\")\n",
    "print(serie)"
   ]
  },
  {
   "cell_type": "code",
   "execution_count": 55,
   "metadata": {},
   "outputs": [],
   "source": [
    "# 2. C A partir de las dos listas anteriores crea un diccionario usando un bucle for. Para hacer esto tenemos el método zip que nos permite iterar por dos listas a la vez"
   ]
  },
  {
   "cell_type": "code",
   "execution_count": 56,
   "metadata": {},
   "outputs": [
    {
     "name": "stdout",
     "output_type": "stream",
     "text": [
      "{'Lunes': 34, 'Martes': 67, 'Miércoles': 12, 'Jueves': 89, 'Viernes': 45, 'Sábado': 78, 'Domingo': 23}\n"
     ]
    }
   ],
   "source": [
    "# Listas de ejemplo\n",
    "valores = [34, 67, 12, 89, 45, 78, 23]\n",
    "indices = [\"Lunes\", \"Martes\", \"Miércoles\", \"Jueves\", \"Viernes\", \"Sábado\", \"Domingo\"]\n",
    "\n",
    "# Crear un diccionario usando un bucle for y el método zip\n",
    "diccionario = {indice: valor for indice, valor in zip(indices, valores)}\n",
    "\n",
    "print(diccionario)"
   ]
  },
  {
   "cell_type": "code",
   "execution_count": 57,
   "metadata": {},
   "outputs": [
    {
     "name": "stdout",
     "output_type": "stream",
     "text": [
      "Lunes        34\n",
      "Martes       67\n",
      "Miércoles    12\n",
      "Jueves       89\n",
      "Viernes      45\n",
      "Sábado       78\n",
      "Domingo      23\n",
      "dtype: int64\n"
     ]
    }
   ],
   "source": [
    "#2D.Crea una Serie con el diccionario creado en el punto anterior.\n",
    "\n",
    "import pandas as pd\n",
    "\n",
    "# Listas de ejemplo\n",
    "valores = [34, 67, 12, 89, 45, 78, 23]\n",
    "indices = [\"Lunes\", \"Martes\", \"Miércoles\", \"Jueves\", \"Viernes\", \"Sábado\", \"Domingo\"]\n",
    "\n",
    "# Crear un diccionario usando un bucle for y el método zip\n",
    "diccionario = {indice: valor for indice, valor in zip(indices, valores)}\n",
    "\n",
    "# Crear una Serie de pandas con el diccionario\n",
    "serie = pd.Series(diccionario)\n",
    "\n",
    "print(serie)\n"
   ]
  },
  {
   "cell_type": "code",
   "execution_count": 58,
   "metadata": {},
   "outputs": [
    {
     "name": "stdout",
     "output_type": "stream",
     "text": [
      "Serie:\n",
      "Lunes        34\n",
      "Martes       67\n",
      "Miércoles    12\n",
      "Jueves       89\n",
      "Viernes      45\n",
      "Sábado       78\n",
      "Domingo      23\n",
      "dtype: int64\n",
      "\n",
      "Forma de la Serie: (7,)\n"
     ]
    }
   ],
   "source": [
    "#2.E ¿Qué forma tiene esta última Serie?\n",
    "forma = serie.shape\n",
    "print(\"Serie:\")\n",
    "print(serie)\n",
    "print(\"\\nForma de la Serie:\", forma)"
   ]
  },
  {
   "cell_type": "code",
   "execution_count": 59,
   "metadata": {},
   "outputs": [
    {
     "name": "stdout",
     "output_type": "stream",
     "text": [
      "Serie:\n",
      "Lunes        34\n",
      "Martes       67\n",
      "Miércoles    12\n",
      "Jueves       89\n",
      "Viernes      45\n",
      "Sábado       78\n",
      "Domingo      23\n",
      "dtype: int64\n",
      "\n",
      "Tipo de datos de la Serie: int64\n"
     ]
    }
   ],
   "source": [
    "#2.F Qué tipo de datos tiene?\n",
    "\n",
    "tipo_datos = serie.dtype\n",
    "print(\"Serie:\")\n",
    "print(serie)\n",
    "print(\"\\nTipo de datos de la Serie:\", tipo_datos)"
   ]
  },
  {
   "cell_type": "code",
   "execution_count": 60,
   "metadata": {},
   "outputs": [
    {
     "name": "stdout",
     "output_type": "stream",
     "text": [
      "Serie:\n",
      "Lunes        34\n",
      "Martes       67\n",
      "Miércoles    12\n",
      "Jueves       89\n",
      "Viernes      45\n",
      "Sábado       78\n",
      "Domingo      23\n",
      "dtype: int64\n",
      "\n",
      "Tamaño de la Serie: 7\n"
     ]
    }
   ],
   "source": [
    "#2.G ¿Qué tamaño tiene?\n",
    "tamaño = serie.size\n",
    "\n",
    "print(\"Serie:\")\n",
    "print(serie)\n",
    "print(\"\\nTamaño de la Serie:\", tamaño)"
   ]
  },
  {
   "cell_type": "code",
   "execution_count": 61,
   "metadata": {},
   "outputs": [
    {
     "name": "stdout",
     "output_type": "stream",
     "text": [
      "Índices de la Serie:\n",
      "Index(['Lunes', 'Martes', 'Miércoles', 'Jueves', 'Viernes', 'Sábado',\n",
      "       'Domingo'],\n",
      "      dtype='object')\n"
     ]
    }
   ],
   "source": [
    "#2.H ¿Cuáles son los índices de la Serie?\n",
    "\n",
    "# Crear una Serie de pandas con las listas de valores e índices\n",
    "serie = pd.Series(valores, index=indices)\n",
    "\n",
    "# Imprimir los índices de la Serie\n",
    "print(\"Índices de la Serie:\")\n",
    "print(serie.index)"
   ]
  },
  {
   "cell_type": "code",
   "execution_count": 62,
   "metadata": {},
   "outputs": [
    {
     "name": "stdout",
     "output_type": "stream",
     "text": [
      "Valores de la Serie:\n",
      "[34 67 12 89 45 78 23]\n"
     ]
    }
   ],
   "source": [
    "#2.H ¿Cuáles son los valores de la Serie?\n",
    "# Imprimir los valores de la Serie\n",
    "print(\"Valores de la Serie:\")\n",
    "print(serie.values)"
   ]
  },
  {
   "cell_type": "code",
   "execution_count": 63,
   "metadata": {},
   "outputs": [
    {
     "name": "stdout",
     "output_type": "stream",
     "text": [
      "Valor para el índice 'Lunes': 34\n"
     ]
    }
   ],
   "source": [
    "#2.I valor para el lunes\n",
    "# Extraer el valor para el índice \"Lunes\"\n",
    "valor_lunes = serie[\"Lunes\"]\n",
    "\n",
    "# Imprimir el valor correspondiente al índice \"Lunes\"\n",
    "print(\"Valor para el índice 'Lunes':\", valor_lunes)"
   ]
  },
  {
   "cell_type": "code",
   "execution_count": 64,
   "metadata": {},
   "outputs": [
    {
     "name": "stdout",
     "output_type": "stream",
     "text": [
      "Valores para los índices 'Lunes', 'Martes' y 'Miércoles':\n",
      "Lunes        34\n",
      "Martes       67\n",
      "Miércoles    12\n",
      "dtype: int64\n"
     ]
    }
   ],
   "source": [
    "#2.J Extraer los valores para los índices \"lunes\", \"martes\" y \"miércoles\"\n",
    "# Extraer los valores para los índices \"lunes\", \"martes\" y \"miércoles\"\n",
    "valores_lunes_martes_miercoles = serie[[\"Lunes\", \"Martes\", \"Miércoles\"]]\n",
    "\n",
    "# Imprimir los valores correspondientes a los índices \"lunes\", \"martes\" y \"miércoles\"\n",
    "print(\"Valores para los índices 'Lunes', 'Martes' y 'Miércoles':\")\n",
    "print(valores_lunes_martes_miercoles)"
   ]
  },
  {
   "cell_type": "code",
   "execution_count": 65,
   "metadata": {},
   "outputs": [
    {
     "name": "stdout",
     "output_type": "stream",
     "text": [
      "Valores para los índices 'Lunes' y 'Domingo':\n",
      "Lunes      34\n",
      "Domingo    23\n",
      "dtype: int64\n"
     ]
    }
   ],
   "source": [
    "#2.k Extrae el valor para el índice \"lunes\" y \"domingo\".\n",
    "# Extraer los valores para los índices \"lunes\" y \"domingo\"\n",
    "valores_lunes_domingo = serie[[\"Lunes\", \"Domingo\"]]\n",
    "\n",
    "# Imprimir los valores correspondientes a los índices \"lunes\" y \"domingo\"\n",
    "print(\"Valores para los índices 'Lunes' y 'Domingo':\")\n",
    "print(valores_lunes_domingo)"
   ]
  },
  {
   "cell_type": "code",
   "execution_count": 66,
   "metadata": {},
   "outputs": [
    {
     "name": "stdout",
     "output_type": "stream",
     "text": [
      "Array de dos dimensiones:\n",
      "[[ 74  42  82]\n",
      " [ 38  75 100]\n",
      " [  5   4  60]\n",
      " [ 83  90  72]]\n"
     ]
    }
   ],
   "source": [
    "#3. DataFrame\n",
    "#3.A Crea un array de dos dimensiones con 4 filas y 3 columnas.\n",
    "\n",
    "import numpy as np\n",
    "\n",
    "# Crear un array de dos dimensiones con 4 filas y 3 columnas\n",
    "array_dos_dimensiones = np.random.randint(0, 101, size=(4, 3))\n",
    "\n",
    "# Imprimir el array de dos dimensiones\n",
    "print(\"Array de dos dimensiones:\")\n",
    "print(array_dos_dimensiones)"
   ]
  },
  {
   "cell_type": "code",
   "execution_count": 67,
   "metadata": {},
   "outputs": [
    {
     "name": "stdout",
     "output_type": "stream",
     "text": [
      "DataFrame:\n",
      "   España  Francia  Italia\n",
      "0      74       42      82\n",
      "1      38       75     100\n",
      "2       5        4      60\n",
      "3      83       90      72\n"
     ]
    }
   ],
   "source": [
    "#3.B Convierte el array en un DataFrame donde las columnas se llamen \"España\", \"Francia\" e \"Italia\".\n",
    "import numpy as np\n",
    "import pandas as pd\n",
    "# Crear un DataFrame con nombres de columnas\n",
    "df = pd.DataFrame(array_dos_dimensiones, columns=[\"España\", \"Francia\", \"Italia\"])\n",
    "\n",
    "# Imprimir el DataFrame\n",
    "print(\"DataFrame:\")\n",
    "print(df)"
   ]
  },
  {
   "cell_type": "code",
   "execution_count": 68,
   "metadata": {},
   "outputs": [
    {
     "name": "stdout",
     "output_type": "stream",
     "text": [
      "DataFrame:\n",
      "   Unnamed: 0             País   Oro  Plata  Bronce\n",
      "0           1            China  1473    994     720\n",
      "1           2            Japón  1032   1037     985\n",
      "2           3    Corea del Sur   745    663     827\n",
      "3           4             Irán   179    181     197\n",
      "4           5       Kazajistán   155    158     224\n",
      "5           6            India   154    202     315\n",
      "6           7        Tailandia   132    175     278\n",
      "7           8        Indonesia   112    131     240\n",
      "8           9     China Taipéi    99    144     276\n",
      "9          10  Corea del Norte    91    120     235\n"
     ]
    },
    {
     "data": {
      "text/html": [
       "<div>\n",
       "<style scoped>\n",
       "    .dataframe tbody tr th:only-of-type {\n",
       "        vertical-align: middle;\n",
       "    }\n",
       "\n",
       "    .dataframe tbody tr th {\n",
       "        vertical-align: top;\n",
       "    }\n",
       "\n",
       "    .dataframe thead th {\n",
       "        text-align: right;\n",
       "    }\n",
       "</style>\n",
       "<table border=\"1\" class=\"dataframe\">\n",
       "  <thead>\n",
       "    <tr style=\"text-align: right;\">\n",
       "      <th></th>\n",
       "      <th>Unnamed: 0</th>\n",
       "      <th>País</th>\n",
       "      <th>Oro</th>\n",
       "      <th>Plata</th>\n",
       "      <th>Bronce</th>\n",
       "    </tr>\n",
       "  </thead>\n",
       "  <tbody>\n",
       "    <tr>\n",
       "      <th>0</th>\n",
       "      <td>1</td>\n",
       "      <td>China</td>\n",
       "      <td>1473</td>\n",
       "      <td>994</td>\n",
       "      <td>720</td>\n",
       "    </tr>\n",
       "    <tr>\n",
       "      <th>1</th>\n",
       "      <td>2</td>\n",
       "      <td>Japón</td>\n",
       "      <td>1032</td>\n",
       "      <td>1037</td>\n",
       "      <td>985</td>\n",
       "    </tr>\n",
       "    <tr>\n",
       "      <th>2</th>\n",
       "      <td>3</td>\n",
       "      <td>Corea del Sur</td>\n",
       "      <td>745</td>\n",
       "      <td>663</td>\n",
       "      <td>827</td>\n",
       "    </tr>\n",
       "    <tr>\n",
       "      <th>3</th>\n",
       "      <td>4</td>\n",
       "      <td>Irán</td>\n",
       "      <td>179</td>\n",
       "      <td>181</td>\n",
       "      <td>197</td>\n",
       "    </tr>\n",
       "    <tr>\n",
       "      <th>4</th>\n",
       "      <td>5</td>\n",
       "      <td>Kazajistán</td>\n",
       "      <td>155</td>\n",
       "      <td>158</td>\n",
       "      <td>224</td>\n",
       "    </tr>\n",
       "  </tbody>\n",
       "</table>\n",
       "</div>"
      ],
      "text/plain": [
       "   Unnamed: 0           País   Oro  Plata  Bronce\n",
       "0           1          China  1473    994     720\n",
       "1           2          Japón  1032   1037     985\n",
       "2           3  Corea del Sur   745    663     827\n",
       "3           4           Irán   179    181     197\n",
       "4           5     Kazajistán   155    158     224"
      ]
     },
     "execution_count": 68,
     "metadata": {},
     "output_type": "execute_result"
    }
   ],
   "source": [
    "import pandas as pd\n",
    "\n",
    "# Cargar el archivo CSV en un DataFrame\n",
    "df = pd.read_csv(\"Pair Pandas medallas.csv\", encoding=\"utf-8\")\n",
    "\n",
    "# Imprimir el DataFrame\n",
    "print(\"DataFrame:\")\n",
    "print(df)\n",
    "df.head()"
   ]
  },
  {
   "cell_type": "code",
   "execution_count": 69,
   "metadata": {},
   "outputs": [
    {
     "name": "stdout",
     "output_type": "stream",
     "text": [
      "Fila de Tailandia:\n",
      "   Unnamed: 0       País  Oro  Plata  Bronce\n",
      "6           7  Tailandia  132    175     278\n"
     ]
    }
   ],
   "source": [
    "#3.D Usando el loc extrae todas las columnas de la fila de Tailandia\n",
    "\n",
    "# Usar loc para seleccionar todas las columnas de la fila de Tailandia\n",
    "fila_tailandia = df.loc[df['País'] == 'Tailandia']\n",
    "\n",
    "# Imprimir la fila de Tailandia\n",
    "print(\"Fila de Tailandia:\")\n",
    "print(fila_tailandia)"
   ]
  },
  {
   "cell_type": "code",
   "execution_count": 79,
   "metadata": {},
   "outputs": [
    {
     "data": {
      "text/html": [
       "<div>\n",
       "<style scoped>\n",
       "    .dataframe tbody tr th:only-of-type {\n",
       "        vertical-align: middle;\n",
       "    }\n",
       "\n",
       "    .dataframe tbody tr th {\n",
       "        vertical-align: top;\n",
       "    }\n",
       "\n",
       "    .dataframe thead th {\n",
       "        text-align: right;\n",
       "    }\n",
       "</style>\n",
       "<table border=\"1\" class=\"dataframe\">\n",
       "  <thead>\n",
       "    <tr style=\"text-align: right;\">\n",
       "      <th></th>\n",
       "      <th>Unnamed: 0</th>\n",
       "      <th>País</th>\n",
       "      <th>Oro</th>\n",
       "      <th>Plata</th>\n",
       "      <th>Bronce</th>\n",
       "    </tr>\n",
       "  </thead>\n",
       "  <tbody>\n",
       "    <tr>\n",
       "      <th>6</th>\n",
       "      <td>7</td>\n",
       "      <td>Tailandia</td>\n",
       "      <td>132</td>\n",
       "      <td>175</td>\n",
       "      <td>278</td>\n",
       "    </tr>\n",
       "  </tbody>\n",
       "</table>\n",
       "</div>"
      ],
      "text/plain": [
       "   Unnamed: 0       País  Oro  Plata  Bronce\n",
       "6           7  Tailandia  132    175     278"
      ]
     },
     "execution_count": 79,
     "metadata": {},
     "output_type": "execute_result"
    }
   ],
   "source": [
    "fila_tailandia.loc[df.País==\"Tailandia\"]"
   ]
  },
  {
   "cell_type": "code",
   "execution_count": 70,
   "metadata": {},
   "outputs": [
    {
     "name": "stdout",
     "output_type": "stream",
     "text": [
      "Filas de China e Irán:\n",
      "   Unnamed: 0   País   Oro  Plata  Bronce\n",
      "0           1  China  1473    994     720\n",
      "3           4   Irán   179    181     197\n"
     ]
    }
   ],
   "source": [
    "#3.E Usando el loc extrae todas las columnas de China e Irán.\n",
    "filas_china_iran = df.loc[df['País'].isin(['China', 'Irán'])]\n",
    "\n",
    "# Imprimir las filas de China e Irán\n",
    "print(\"Filas de China e Irán:\")\n",
    "print(filas_china_iran)"
   ]
  },
  {
   "cell_type": "code",
   "execution_count": 82,
   "metadata": {},
   "outputs": [
    {
     "name": "stdout",
     "output_type": "stream",
     "text": [
      "Filas de China e Irán:\n",
      "   Unnamed: 0   País   Oro  Plata  Bronce\n",
      "0           1  China  1473    994     720\n",
      "3           4   Irán   179    181     197\n"
     ]
    }
   ],
   "source": [
    "fila_china_iran = df.loc[(df[\"País\"] == \"China\") | (df[\"País\"] == \"Irán\")]\n",
    "\n",
    "# Imprimir las filas de China e Irán\n",
    "print(\"Filas de China e Irán:\")\n",
    "print(filas_china_iran)"
   ]
  },
  {
   "cell_type": "code",
   "execution_count": 71,
   "metadata": {},
   "outputs": [
    {
     "name": "stdout",
     "output_type": "stream",
     "text": [
      "Datos de 'Oro', 'Plata' y 'Bronce' de China e Irán:\n",
      "    País   Oro  Plata  Bronce\n",
      "0  China  1473    994     720\n",
      "3   Irán   179    181     197\n"
     ]
    }
   ],
   "source": [
    "# 3.F\n",
    "# Usando el loc extrae solo las columnas de \"Oro\", \"Plata\" y \"Bronce\" de China e Irán.\n",
    "datos_china_iran = df.loc[df['País'].isin(['China', 'Irán']), ['País', 'Oro', 'Plata', 'Bronce']]\n",
    "\n",
    "# Imprimir los datos de \"Oro\", \"Plata\" y \"Bronce\" de China e Irán\n",
    "print(\"Datos de 'Oro', 'Plata' y 'Bronce' de China e Irán:\")\n",
    "print(datos_china_iran)"
   ]
  },
  {
   "cell_type": "code",
   "execution_count": 72,
   "metadata": {},
   "outputs": [
    {
     "name": "stdout",
     "output_type": "stream",
     "text": [
      "Información de la India:\n",
      "Unnamed: 0        6\n",
      "País          India\n",
      "Oro             154\n",
      "Plata           202\n",
      "Bronce          315\n",
      "Name: 5, dtype: object\n"
     ]
    }
   ],
   "source": [
    "#3.G Usando el loc extrae solo las columnas de \"Oro\", \"Plata\" y \"Bronce\" de China e Irán.\n",
    "# Obtener el índice de la fila correspondiente a India\n",
    "indice_india = df.index[df['País'] == 'India'][0]\n",
    "\n",
    "# Usar iloc para extraer la fila de India y todas las columnas\n",
    "info_india = df.iloc[indice_india]\n",
    "\n",
    "# Imprimir la información de la India\n",
    "print(\"Información de la India:\")\n",
    "print(info_india)"
   ]
  },
  {
   "cell_type": "code",
   "execution_count": 73,
   "metadata": {},
   "outputs": [
    {
     "name": "stdout",
     "output_type": "stream",
     "text": [
      "Países en posiciones impares:\n",
      "   Unnamed: 0             País   Oro  Plata  Bronce\n",
      "1           2            Japón  1032   1037     985\n",
      "3           4             Irán   179    181     197\n",
      "5           6            India   154    202     315\n",
      "7           8        Indonesia   112    131     240\n",
      "9          10  Corea del Norte    91    120     235\n"
     ]
    }
   ],
   "source": [
    "#3.H Usando el iloc extrae todas las columnas de los paises que estén en posición impar. La primera que nos tendría que salir es Japón y la última Corea del Norte.\n",
    "paises_posiciones_impares = df.iloc[1::2]\n",
    "\n",
    "# Imprimir los países en posiciones impares\n",
    "print(\"Países en posiciones impares:\")\n",
    "print(paises_posiciones_impares)"
   ]
  },
  {
   "cell_type": "code",
   "execution_count": 74,
   "metadata": {},
   "outputs": [
    {
     "name": "stdout",
     "output_type": "stream",
     "text": [
      "Datos de 'Oro', 'Plata' y 'Bronce' de países en posiciones impares:\n",
      "              País   Oro  Plata  Bronce\n",
      "1            Japón  1032   1037     985\n",
      "3             Irán   179    181     197\n",
      "5            India   154    202     315\n",
      "7        Indonesia   112    131     240\n",
      "9  Corea del Norte    91    120     235\n"
     ]
    }
   ],
   "source": [
    "#3.I selecciona unicamente las columnas \"Oro\", \"Plata\" y \"Bronce\".\n",
    "datos_impares = paises_posiciones_impares[['País','Oro', 'Plata', 'Bronce']]\n",
    "print(\"Datos de 'Oro', 'Plata' y 'Bronce' de países en posiciones impares:\")\n",
    "print(datos_impares)"
   ]
  },
  {
   "cell_type": "code",
   "execution_count": 85,
   "metadata": {},
   "outputs": [
    {
     "data": {
      "text/html": [
       "<div>\n",
       "<style scoped>\n",
       "    .dataframe tbody tr th:only-of-type {\n",
       "        vertical-align: middle;\n",
       "    }\n",
       "\n",
       "    .dataframe tbody tr th {\n",
       "        vertical-align: top;\n",
       "    }\n",
       "\n",
       "    .dataframe thead th {\n",
       "        text-align: right;\n",
       "    }\n",
       "</style>\n",
       "<table border=\"1\" class=\"dataframe\">\n",
       "  <thead>\n",
       "    <tr style=\"text-align: right;\">\n",
       "      <th></th>\n",
       "      <th>Oro</th>\n",
       "      <th>Plata</th>\n",
       "    </tr>\n",
       "  </thead>\n",
       "  <tbody>\n",
       "    <tr>\n",
       "      <th>1</th>\n",
       "      <td>1032</td>\n",
       "      <td>1037</td>\n",
       "    </tr>\n",
       "    <tr>\n",
       "      <th>3</th>\n",
       "      <td>179</td>\n",
       "      <td>181</td>\n",
       "    </tr>\n",
       "    <tr>\n",
       "      <th>5</th>\n",
       "      <td>154</td>\n",
       "      <td>202</td>\n",
       "    </tr>\n",
       "    <tr>\n",
       "      <th>7</th>\n",
       "      <td>112</td>\n",
       "      <td>131</td>\n",
       "    </tr>\n",
       "    <tr>\n",
       "      <th>9</th>\n",
       "      <td>91</td>\n",
       "      <td>120</td>\n",
       "    </tr>\n",
       "  </tbody>\n",
       "</table>\n",
       "</div>"
      ],
      "text/plain": [
       "    Oro  Plata\n",
       "1  1032   1037\n",
       "3   179    181\n",
       "5   154    202\n",
       "7   112    131\n",
       "9    91    120"
      ]
     },
     "execution_count": 85,
     "metadata": {},
     "output_type": "execute_result"
    }
   ],
   "source": [
    "paises_posiciones_impares = df.iloc[1::2, 2:4]\n",
    "paises_posiciones_impares"
   ]
  },
  {
   "cell_type": "code",
   "execution_count": 75,
   "metadata": {},
   "outputs": [
    {
     "name": "stdout",
     "output_type": "stream",
     "text": [
      "Países con más de 200 medallas de oro:\n",
      "   Unnamed: 0           País   Oro  Plata  Bronce\n",
      "0           1          China  1473    994     720\n",
      "1           2          Japón  1032   1037     985\n",
      "2           3  Corea del Sur   745    663     827\n",
      "El país que ha conseguido más de 200 medallas de oro es: China\n"
     ]
    }
   ],
   "source": [
    "#3.J ¿Qué país consiguió más de 200 medallas de oro?\n",
    "# Filtrar las filas donde el número de medallas de oro sea mayor que 200\n",
    "paises_mas_200_oro = df[df['Oro'] > 200]\n",
    "\n",
    "# Imprimir los países con más de 200 medallas de oro\n",
    "print(\"Países con más de 200 medallas de oro:\")\n",
    "print(paises_mas_200_oro)\n",
    "\n",
    "# Obtener el país con el mayor número de medallas de oro\n",
    "pais_max_oro = paises_mas_200_oro.loc[paises_mas_200_oro['Oro'].idxmax(), 'País']\n",
    "\n",
    "# Imprimir el país que ha conseguido más de 200 medallas de oro\n",
    "print(\"El país que ha conseguido más de 200 medallas de oro es:\", pais_max_oro)"
   ]
  },
  {
   "cell_type": "code",
   "execution_count": 88,
   "metadata": {},
   "outputs": [
    {
     "data": {
      "text/html": [
       "<div>\n",
       "<style scoped>\n",
       "    .dataframe tbody tr th:only-of-type {\n",
       "        vertical-align: middle;\n",
       "    }\n",
       "\n",
       "    .dataframe tbody tr th {\n",
       "        vertical-align: top;\n",
       "    }\n",
       "\n",
       "    .dataframe thead th {\n",
       "        text-align: right;\n",
       "    }\n",
       "</style>\n",
       "<table border=\"1\" class=\"dataframe\">\n",
       "  <thead>\n",
       "    <tr style=\"text-align: right;\">\n",
       "      <th></th>\n",
       "      <th>Unnamed: 0</th>\n",
       "      <th>País</th>\n",
       "      <th>Oro</th>\n",
       "      <th>Plata</th>\n",
       "      <th>Bronce</th>\n",
       "      <th>total</th>\n",
       "    </tr>\n",
       "  </thead>\n",
       "  <tbody>\n",
       "    <tr>\n",
       "      <th>0</th>\n",
       "      <td>1</td>\n",
       "      <td>China</td>\n",
       "      <td>1473</td>\n",
       "      <td>994</td>\n",
       "      <td>720</td>\n",
       "      <td>3187</td>\n",
       "    </tr>\n",
       "    <tr>\n",
       "      <th>1</th>\n",
       "      <td>2</td>\n",
       "      <td>Japón</td>\n",
       "      <td>1032</td>\n",
       "      <td>1037</td>\n",
       "      <td>985</td>\n",
       "      <td>3054</td>\n",
       "    </tr>\n",
       "    <tr>\n",
       "      <th>2</th>\n",
       "      <td>3</td>\n",
       "      <td>Corea del Sur</td>\n",
       "      <td>745</td>\n",
       "      <td>663</td>\n",
       "      <td>827</td>\n",
       "      <td>2235</td>\n",
       "    </tr>\n",
       "  </tbody>\n",
       "</table>\n",
       "</div>"
      ],
      "text/plain": [
       "   Unnamed: 0           País   Oro  Plata  Bronce  total\n",
       "0           1          China  1473    994     720   3187\n",
       "1           2          Japón  1032   1037     985   3054\n",
       "2           3  Corea del Sur   745    663     827   2235"
      ]
     },
     "execution_count": 88,
     "metadata": {},
     "output_type": "execute_result"
    }
   ],
   "source": [
    "paises_mas_200_oro = df.loc[df['Oro'] > 200]\n",
    "paises_mas_200_oro"
   ]
  },
  {
   "cell_type": "code",
   "execution_count": 76,
   "metadata": {},
   "outputs": [
    {
     "name": "stdout",
     "output_type": "stream",
     "text": [
      "Países con más de 200 medallas de oro y más de 1000 medallas de plata:\n",
      "   Unnamed: 0   País   Oro  Plata  Bronce\n",
      "1           2  Japón  1032   1037     985\n",
      "El país que ha conseguido más de 200 medallas de oro y más de 1000 medallas de plata es: Japón\n"
     ]
    }
   ],
   "source": [
    "#3. K ¿Qué país consiguió más de 200 medallas de oro y más de 1000 de plata?\n",
    "# Filtrar las filas donde el número de medallas de oro sea mayor que 200 y el número de medallas de plata sea mayor que 1000\n",
    "paises_mas_200_oro_1000_plata = df[(df['Oro'] > 200) & (df['Plata'] > 1000)]\n",
    "\n",
    "# Imprimir los países que cumplen con las condiciones\n",
    "print(\"Países con más de 200 medallas de oro y más de 1000 medallas de plata:\")\n",
    "print(paises_mas_200_oro_1000_plata)\n",
    "\n",
    "# Obtener el país que tiene el mayor número de medallas de oro y plata dentro de esos países filtrados\n",
    "pais_max_oro_1000_plata = paises_mas_200_oro_1000_plata.loc[\n",
    "    (paises_mas_200_oro_1000_plata['Oro'] + paises_mas_200_oro_1000_plata['Plata']).idxmax(), 'País']\n",
    "\n",
    "# Imprimir el país que ha conseguido más de 200 medallas de oro y más de 1000 medallas de plata\n",
    "print(\"El país que ha conseguido más de 200 medallas de oro y más de 1000 medallas de plata es:\", pais_max_oro_1000_plata)"
   ]
  },
  {
   "cell_type": "code",
   "execution_count": 92,
   "metadata": {},
   "outputs": [
    {
     "name": "stdout",
     "output_type": "stream",
     "text": [
      "Países con más de 200 medallas de oro y más de 1000 medallas de plata:\n",
      "   Unnamed: 0   País   Oro  Plata  Bronce  total\n",
      "1           2  Japón  1032   1037     985   3054\n"
     ]
    }
   ],
   "source": [
    "paises_mas_200_oro_1000_plata = df.loc[(df['Oro'] > 200) & (df['Plata'] > 1000)]\n",
    "print(\"Países con más de 200 medallas de oro y más de 1000 medallas de plata:\")\n",
    "print(paises_mas_200_oro_1000_plata)"
   ]
  },
  {
   "cell_type": "code",
   "execution_count": 77,
   "metadata": {},
   "outputs": [
    {
     "name": "stdout",
     "output_type": "stream",
     "text": [
      "Países con más de 200 medallas de oro o más de 700 medallas de bronce:\n",
      "   Unnamed: 0           País   Oro  Plata  Bronce\n",
      "0           1          China  1473    994     720\n",
      "1           2          Japón  1032   1037     985\n",
      "2           3  Corea del Sur   745    663     827\n",
      "El país que ha conseguido más de 200 medallas de oro o más de 700 medallas de bronce es: China\n"
     ]
    }
   ],
   "source": [
    "#3. l ¿Qué país consiguió más de 200 medallas de oro o más de 700 de bronce?\n",
    "\n",
    "paises_mas_200_oro_o_700_bronce = df[(df['Oro'] > 200) | (df['Bronce'] > 700)]\n",
    "\n",
    "# Imprimir los países que cumplen con las condiciones\n",
    "print(\"Países con más de 200 medallas de oro o más de 700 medallas de bronce:\")\n",
    "print(paises_mas_200_oro_o_700_bronce)\n",
    "\n",
    "# Obtener el país que tiene el mayor número de medallas de oro o bronce dentro de esos países filtrados,donde idxmax es utiliza para encontrar el índice del primer valor máximo en una serie o DataFrame.\n",
    "pais_max_oro_o_700_bronce = paises_mas_200_oro_o_700_bronce.loc[\n",
    "    (paises_mas_200_oro_o_700_bronce['Oro'] + paises_mas_200_oro_o_700_bronce['Bronce']).idxmax(), 'País']\n",
    "\n",
    "# Imprimir el país que ha conseguido más de 200 medallas de oro o más de 700 medallas de bronce\n",
    "print(\"El país que ha conseguido más de 200 medallas de oro o más de 700 medallas de bronce es:\", pais_max_oro_o_700_bronce)"
   ]
  },
  {
   "cell_type": "code",
   "execution_count": null,
   "metadata": {},
   "outputs": [],
   "source": []
  },
  {
   "cell_type": "code",
   "execution_count": 78,
   "metadata": {},
   "outputs": [
    {
     "name": "stdout",
     "output_type": "stream",
     "text": [
      "DataFrame con la nueva columna 'total':\n",
      "   Unnamed: 0             País   Oro  Plata  Bronce  total\n",
      "0           1            China  1473    994     720   3187\n",
      "1           2            Japón  1032   1037     985   3054\n",
      "2           3    Corea del Sur   745    663     827   2235\n",
      "3           4             Irán   179    181     197    557\n",
      "4           5       Kazajistán   155    158     224    537\n",
      "5           6            India   154    202     315    671\n",
      "6           7        Tailandia   132    175     278    585\n",
      "7           8        Indonesia   112    131     240    483\n",
      "8           9     China Taipéi    99    144     276    519\n",
      "9          10  Corea del Norte    91    120     235    446\n"
     ]
    }
   ],
   "source": [
    "#3.M Crea una nueva columma que se llame \"total\" que sea el resultado de la suma de todas las medallas obtenidas por cada país.\n",
    "import pandas as pd\n",
    "\n",
    "# Supongamos que 'df' es tu DataFrame cargado previamente desde el archivo CSV\n",
    "\n",
    "# Calcular la suma de medallas de oro, plata y bronce para cada país\n",
    "df['total'] = df[['Oro', 'Plata', 'Bronce']].sum(axis=1)\n",
    "\n",
    "# Imprimir el DataFrame con la nueva columna \"total\"\n",
    "print(\"DataFrame con la nueva columna 'total':\")\n",
    "print(df)"
   ]
  }
 ],
 "metadata": {
  "kernelspec": {
   "display_name": "Python 3",
   "language": "python",
   "name": "python3"
  },
  "language_info": {
   "codemirror_mode": {
    "name": "ipython",
    "version": 3
   },
   "file_extension": ".py",
   "mimetype": "text/x-python",
   "name": "python",
   "nbconvert_exporter": "python",
   "pygments_lexer": "ipython3",
   "version": "3.12.3"
  }
 },
 "nbformat": 4,
 "nbformat_minor": 2
}
