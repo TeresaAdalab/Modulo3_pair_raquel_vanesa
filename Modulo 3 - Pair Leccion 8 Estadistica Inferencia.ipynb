{
 "cells": [
  {
   "cell_type": "code",
   "execution_count": 1,
   "metadata": {},
   "outputs": [],
   "source": [
    "\n",
    "# importamos las librerías que necesitamos\n",
    "\n",
    "# Tratamiento de datos\n",
    "# -----------------------------------------------------------------------\n",
    "import pandas as pd\n",
    "import numpy as np\n",
    "\n",
    "# Visualización\n",
    "# ------------------------------------------------------------------------------\n",
    "import matplotlib.pyplot as plt\n",
    "import seaborn as sns\n",
    "\n",
    "# Evaluar linealidad de las relaciones entre las variables\n",
    "# y la distribución de las variables\n",
    "# ------------------------------------------------------------------------------\n",
    "#import scipy.stats as stats\n",
    "import scipy.stats as stats\n",
    "from scipy.stats import shapiro, poisson, chisquare, expon, kstest\n",
    "\n",
    "\n",
    "# Configuración\n",
    "# -----------------------------------------------------------------------\n",
    "pd.set_option('display.max_columns', None) # para poder visualizar todas las columnas de los DataFrames\n",
    "\n",
    "# Gestión de los warnings\n",
    "# -----------------------------------------------------------------------\n",
    "import warnings\n",
    "warnings.filterwarnings(\"ignore\")"
   ]
  },
  {
   "cell_type": "code",
   "execution_count": 8,
   "metadata": {},
   "outputs": [
    {
     "data": {
      "text/html": [
       "<div>\n",
       "<style scoped>\n",
       "    .dataframe tbody tr th:only-of-type {\n",
       "        vertical-align: middle;\n",
       "    }\n",
       "\n",
       "    .dataframe tbody tr th {\n",
       "        vertical-align: top;\n",
       "    }\n",
       "\n",
       "    .dataframe thead th {\n",
       "        text-align: right;\n",
       "    }\n",
       "</style>\n",
       "<table border=\"1\" class=\"dataframe\">\n",
       "  <thead>\n",
       "    <tr style=\"text-align: right;\">\n",
       "      <th></th>\n",
       "      <th>country</th>\n",
       "      <th>density</th>\n",
       "      <th>abbreviation</th>\n",
       "      <th>agricultural_land(_%)</th>\n",
       "      <th>land_area</th>\n",
       "      <th>armed_forces_size</th>\n",
       "      <th>calling_code</th>\n",
       "      <th>capital/major_city</th>\n",
       "      <th>cpi</th>\n",
       "      <th>cpi_change_</th>\n",
       "      <th>currency-code</th>\n",
       "      <th>forested_area_</th>\n",
       "      <th>gasoline_price</th>\n",
       "      <th>gdp</th>\n",
       "      <th>gross_primary_education_enrollment_</th>\n",
       "      <th>gross_tertiary_education_enrollment_</th>\n",
       "      <th>largest_city</th>\n",
       "      <th>minimum_wage</th>\n",
       "      <th>official_language</th>\n",
       "      <th>out_of_pocket_health_expenditure</th>\n",
       "      <th>physicians_per_thousand</th>\n",
       "      <th>population</th>\n",
       "      <th>population_labor_force_participation_</th>\n",
       "      <th>tax_revenue_</th>\n",
       "      <th>total_tax_rate</th>\n",
       "      <th>unemployment_rate</th>\n",
       "      <th>urban_population</th>\n",
       "      <th>latitud</th>\n",
       "      <th>longitud</th>\n",
       "      <th>continent</th>\n",
       "      <th>birth_rate</th>\n",
       "      <th>co2-emissions</th>\n",
       "      <th>fertility_rate</th>\n",
       "      <th>infant_mortality</th>\n",
       "      <th>life_expectancy</th>\n",
       "      <th>maternal_mortality_ratio</th>\n",
       "    </tr>\n",
       "  </thead>\n",
       "  <tbody>\n",
       "    <tr>\n",
       "      <th>0</th>\n",
       "      <td>Afghanistan</td>\n",
       "      <td>60.0</td>\n",
       "      <td>AF</td>\n",
       "      <td>58.1</td>\n",
       "      <td>652.230</td>\n",
       "      <td>323.0</td>\n",
       "      <td>93.0</td>\n",
       "      <td>Kabul</td>\n",
       "      <td>149.90</td>\n",
       "      <td>2.3</td>\n",
       "      <td>AFN</td>\n",
       "      <td>2.1</td>\n",
       "      <td>0.70</td>\n",
       "      <td>1.910135e+10</td>\n",
       "      <td>104.0</td>\n",
       "      <td>9.7</td>\n",
       "      <td>Kabul</td>\n",
       "      <td>0.43</td>\n",
       "      <td>Pashto</td>\n",
       "      <td>78.4</td>\n",
       "      <td>0.28</td>\n",
       "      <td>38041754.0</td>\n",
       "      <td>48.9</td>\n",
       "      <td>9.3</td>\n",
       "      <td>71.4</td>\n",
       "      <td>11.12</td>\n",
       "      <td>9797273.0</td>\n",
       "      <td>33.93911</td>\n",
       "      <td>67.709953</td>\n",
       "      <td>Asia</td>\n",
       "      <td>32.49</td>\n",
       "      <td>8.672</td>\n",
       "      <td>4.47</td>\n",
       "      <td>47.9</td>\n",
       "      <td>64.5</td>\n",
       "      <td>638.0</td>\n",
       "    </tr>\n",
       "    <tr>\n",
       "      <th>1</th>\n",
       "      <td>Albania</td>\n",
       "      <td>105.0</td>\n",
       "      <td>AL</td>\n",
       "      <td>43.1</td>\n",
       "      <td>28.748</td>\n",
       "      <td>9.0</td>\n",
       "      <td>355.0</td>\n",
       "      <td>Tirana</td>\n",
       "      <td>119.05</td>\n",
       "      <td>1.4</td>\n",
       "      <td>ALL</td>\n",
       "      <td>28.1</td>\n",
       "      <td>1.36</td>\n",
       "      <td>1.527808e+10</td>\n",
       "      <td>107.0</td>\n",
       "      <td>55.0</td>\n",
       "      <td>Tirana</td>\n",
       "      <td>1.12</td>\n",
       "      <td>Albanian</td>\n",
       "      <td>56.9</td>\n",
       "      <td>1.20</td>\n",
       "      <td>2854191.0</td>\n",
       "      <td>55.7</td>\n",
       "      <td>18.6</td>\n",
       "      <td>36.6</td>\n",
       "      <td>12.33</td>\n",
       "      <td>1747593.0</td>\n",
       "      <td>41.153332</td>\n",
       "      <td>20.168331</td>\n",
       "      <td>Europe</td>\n",
       "      <td>11.78</td>\n",
       "      <td>4.536</td>\n",
       "      <td>1.62</td>\n",
       "      <td>7.8</td>\n",
       "      <td>78.5</td>\n",
       "      <td>15.0</td>\n",
       "    </tr>\n",
       "  </tbody>\n",
       "</table>\n",
       "</div>"
      ],
      "text/plain": [
       "       country  density abbreviation  agricultural_land(_%)  land_area  \\\n",
       "0  Afghanistan     60.0           AF                   58.1    652.230   \n",
       "1      Albania    105.0           AL                   43.1     28.748   \n",
       "\n",
       "   armed_forces_size  calling_code capital/major_city     cpi  cpi_change_  \\\n",
       "0              323.0          93.0              Kabul  149.90          2.3   \n",
       "1                9.0         355.0             Tirana  119.05          1.4   \n",
       "\n",
       "  currency-code  forested_area_  gasoline_price           gdp  \\\n",
       "0           AFN             2.1            0.70  1.910135e+10   \n",
       "1           ALL            28.1            1.36  1.527808e+10   \n",
       "\n",
       "   gross_primary_education_enrollment_  gross_tertiary_education_enrollment_  \\\n",
       "0                                104.0                                   9.7   \n",
       "1                                107.0                                  55.0   \n",
       "\n",
       "  largest_city  minimum_wage official_language  \\\n",
       "0        Kabul          0.43            Pashto   \n",
       "1       Tirana          1.12          Albanian   \n",
       "\n",
       "   out_of_pocket_health_expenditure  physicians_per_thousand  population  \\\n",
       "0                              78.4                     0.28  38041754.0   \n",
       "1                              56.9                     1.20   2854191.0   \n",
       "\n",
       "   population_labor_force_participation_  tax_revenue_  total_tax_rate  \\\n",
       "0                                   48.9           9.3            71.4   \n",
       "1                                   55.7          18.6            36.6   \n",
       "\n",
       "   unemployment_rate  urban_population    latitud   longitud continent  \\\n",
       "0              11.12         9797273.0   33.93911  67.709953      Asia   \n",
       "1              12.33         1747593.0  41.153332  20.168331    Europe   \n",
       "\n",
       "   birth_rate  co2-emissions  fertility_rate  infant_mortality  \\\n",
       "0       32.49          8.672            4.47              47.9   \n",
       "1       11.78          4.536            1.62               7.8   \n",
       "\n",
       "   life_expectancy  maternal_mortality_ratio  \n",
       "0             64.5                     638.0  \n",
       "1             78.5                      15.0  "
      ]
     },
     "execution_count": 8,
     "metadata": {},
     "output_type": "execute_result"
    }
   ],
   "source": [
    "# lo primero que hacemos es cargar el dataframe que vamos a usar para esta lección\n",
    "df = pd.read_csv(\"world_data_notnull.csv\", index_col = 0)\n",
    "df.head(2)"
   ]
  },
  {
   "cell_type": "code",
   "execution_count": 9,
   "metadata": {},
   "outputs": [
    {
     "data": {
      "text/plain": [
       "Index(['country', 'density', 'abbreviation', 'agricultural_land(_%)',\n",
       "       'land_area', 'armed_forces_size', 'calling_code', 'capital/major_city',\n",
       "       'cpi', 'cpi_change_', 'currency-code', 'forested_area_',\n",
       "       'gasoline_price', 'gdp', 'gross_primary_education_enrollment_',\n",
       "       'gross_tertiary_education_enrollment_', 'largest_city', 'minimum_wage',\n",
       "       'official_language', 'out_of_pocket_health_expenditure',\n",
       "       'physicians_per_thousand', 'population',\n",
       "       'population_labor_force_participation_', 'tax_revenue_',\n",
       "       'total_tax_rate', 'unemployment_rate', 'urban_population', 'latitud',\n",
       "       'longitud', 'continent', 'birth_rate', 'co2-emissions',\n",
       "       'fertility_rate', 'infant_mortality', 'life_expectancy',\n",
       "       'maternal_mortality_ratio'],\n",
       "      dtype='object')"
      ]
     },
     "execution_count": 9,
     "metadata": {},
     "output_type": "execute_result"
    }
   ],
   "source": [
    "df.columns"
   ]
  },
  {
   "cell_type": "markdown",
   "metadata": {},
   "source": [
    "modela el intervalo de tiempo continuo entre eventos que ocurren de manera independiente y a una tasa constante. Es una distribución de probabilidad continua y se utiliza frecuentemente en teorías de cola, confiabilidad y supervivencia, y en cualquier situación donde los eventos se producen a lo largo del tiempo de forma aleatoria."
   ]
  },
  {
   "cell_type": "code",
   "execution_count": null,
   "metadata": {},
   "outputs": [],
   "source": []
  },
  {
   "cell_type": "markdown",
   "metadata": {},
   "source": [
    "1. ¿El tiempo que transcurre entre la llegada de autobuses a una parada sigue una distribución exponencial o de Poisson?\n",
    "Respuesta: Distribución Exponencial. El tiempo entre la llegada de autobuses se modela típicamente con una distribución exponencial, ya que estamos interesados en medir el intervalo de tiempo continuo entre eventos sucesivos."
   ]
  },
  {
   "cell_type": "markdown",
   "metadata": {},
   "source": [
    "2. ¿El tiempo que transcurre entre la llegada de solicitudes de servicio en un restaurante sigue una distribución exponencial o de Poisson?\n",
    "   Distribución Exponencial. Similar al caso anterior, estamos interesados en el intervalo de tiempo continuo entre la llegada de solicitudes de servicio, lo que se modela adecuadamente con una distribución exponencial."
   ]
  },
  {
   "cell_type": "markdown",
   "metadata": {},
   "source": [
    "3. El tiempo que transcurre entre la llegada de taxis en una parada sigue una distribución exponencial o de Poisson?\n",
    "Respuesta: Distribución Exponencial. Este caso también se refiere al tiempo continuo entre la llegada de taxis, que se ajusta a una distribución exponencial."
   ]
  },
  {
   "cell_type": "markdown",
   "metadata": {},
   "source": [
    "4. El número de errores de ortografía en un libro de texto sigue una distribución exponencial o de Poisson?\n",
    "\n",
    "Respuesta: Distribución de Poisson. Aquí estamos interesados en contar el número de eventos (errores de ortografía) en un intervalo fijo (el libro de texto), lo que se modela adecuadamente con una distribución de Poisson.\n",
    "\n",
    "Una Poissons una distribución de probabilidad discreta que describe el número de eventos que ocurren en un intervalo de tiempo o espacio fijo, siempre que estos eventos ocurran con una tasa constante y de manera independiente del tiempo transcurrido desde el último evento"
   ]
  },
  {
   "cell_type": "code",
   "execution_count": null,
   "metadata": {},
   "outputs": [],
   "source": [
    "Una distribución de probabilidad es discreta si su variable aleatoria puede tomar un conjunto finito o contable de valores distintos(Poisson, binomial,) Toman valores específicos y distintos (por ejemplo, 0, 1, 2, ...).\n",
    "Una distribución de probabilidad continua es Una distribución de probabilidad es continua si su variable aleatoria puede tomar cualquier valor dentro de un intervalo continuo de valores (normal, exponencial uniforme) suelen usar valores entre 0,1"
   ]
  },
  {
   "cell_type": "code",
   "execution_count": 10,
   "metadata": {},
   "outputs": [],
   "source": [
    "# Extraer los datos de la columna 'life_expectancy', eliminando los valores nulos\n",
    "life_expectancy_data = df['life_expectancy'].dropna()\n",
    "\n",
    "# Calcular la media y la desviación estándar\n",
    "mean_life_expectancy = np.mean(life_expectancy_data)\n",
    "std_life_expectancy = np.std(life_expectancy_data, ddof=1)  # ddof=1 para estimación de muestra\n",
    "\n",
    "# Calcular el tamaño de la muestra\n",
    "n = len(life_expectancy_data)"
   ]
  },
  {
   "cell_type": "code",
   "execution_count": 11,
   "metadata": {},
   "outputs": [
    {
     "name": "stdout",
     "output_type": "stream",
     "text": [
      "Intervalo de confianza del 95.0% para la esperanza de vida: (71.33453349629798, 73.42237312649101)\n"
     ]
    }
   ],
   "source": [
    "# Nivel de confianza (por ejemplo, 95%)\n",
    "confidence_level = 0.95\n",
    "alpha = 1 - confidence_level\n",
    "\n",
    "# Calcular el intervalo de confianza\n",
    "t_critical = stats.t.ppf(1 - alpha/2, df=n-1)  # Valor crítico t\n",
    "margin_of_error = t_critical * (std_life_expectancy / np.sqrt(n))\n",
    "\n",
    "confidence_interval = (mean_life_expectancy - margin_of_error, mean_life_expectancy + margin_of_error)\n",
    "\n",
    "print(f\"Intervalo de confianza del {confidence_level*100}% para la esperanza de vida: {confidence_interval}\")"
   ]
  },
  {
   "cell_type": "code",
   "execution_count": 14,
   "metadata": {},
   "outputs": [
    {
     "name": "stdout",
     "output_type": "stream",
     "text": [
      "Intervalo de confianza del 90.0% para el PIB en Africa: (25305931140.449867, 64401493658.968315)\n",
      "Intervalo de confianza del 90.0% para el PIB en Asia: (71682072329.7345, 1528702207989.8823)\n",
      "Intervalo de confianza del 90.0% para el PIB en Europe: (273967581763.64438, 708680684146.4465)\n",
      "Intervalo de confianza del 90.0% para el PIB en North America: (-683921313129.5144, 3438591159111.0703)\n",
      "Intervalo de confianza del 90.0% para el PIB en Oceania: (-71200920972.5475, 343593229864.7142)\n",
      "Intervalo de confianza del 90.0% para el PIB en South America: (58120928340.52869, 584468689876.138)\n",
      "Intervalo de confianza del 90.0% para el PIB en Unknown: (-11030447230.878166, 67807316873.67817)\n"
     ]
    }
   ],
   "source": [
    "# Agrupar por continente y calcular el intervalo de confianza para cada grupo\n",
    "confidence_level = 0.90  # Nivel de confianza del 90%\n",
    "\n",
    "# Crear una lista para almacenar los intervalos de confianza\n",
    "confidence_intervals = []\n",
    "\n",
    "# Iterar sobre cada continente\n",
    "for continent, data in df.groupby('continent')['gdp']:\n",
    "    # Eliminar valores nulos\n",
    "    data = data.dropna()\n",
    "\n",
    "    # Calcular la media y la desviación estándar\n",
    "    mean_gdp = np.mean(data)\n",
    "    std_gdp = np.std(data, ddof=1)  # ddof=1 para estimación de muestra\n",
    "\n",
    "    # Calcular el tamaño de la muestra\n",
    "    n = len(data)\n",
    "\n",
    "    # Calcular el valor crítico t y el margen de error\n",
    "    t_critical = stats.t.ppf(1 - (1 - confidence_level) / 2, df=n - 1)  # Valor crítico t\n",
    "    margin_of_error = t_critical * (std_gdp / np.sqrt(n))\n",
    "\n",
    "    # Calcular el intervalo de confianza\n",
    "    confidence_interval = (mean_gdp - margin_of_error, mean_gdp + margin_of_error)\n",
    "\n",
    "    # Guardar el intervalo de confianza junto con el nombre del continente\n",
    "    confidence_intervals.append({'Continent': continent, 'Confidence Interval': confidence_interval})\n",
    "\n",
    "# Mostrar los resultados\n",
    "for result in confidence_intervals:\n",
    "    print(f\"Intervalo de confianza del {confidence_level*100}% para el PIB en {result['Continent']}: {result['Confidence Interval']}\")"
   ]
  },
  {
   "cell_type": "code",
   "execution_count": 45,
   "metadata": {},
   "outputs": [
    {
     "name": "stdout",
     "output_type": "stream",
     "text": [
      "Intervalo de confianza del 99.0% para la tasa de natalidad en Asia: (16.096457409808707, 21.04541065465201)\n"
     ]
    }
   ],
   "source": [
    "# Filtrar los datos para Asia\n",
    "asia_data = df[df['continent'] == 'Asia']['birth_rate'].dropna()\n",
    "\n",
    "# Calcular la media y la desviación estándar\n",
    "mean_birth_rate = np.mean(asia_data)\n",
    "std_birth_rate = np.std(asia_data, ddof=1)  # ddof=1 para estimación de muestra\n",
    "\n",
    "# Calcular el tamaño de la muestra\n",
    "n = len(asia_data)\n",
    "\n",
    "# Nivel de confianza (por ejemplo, 99%)\n",
    "confidence_level = 0.99\n",
    "alpha = 1 - confidence_level\n",
    "\n",
    "# Calcular el intervalo de confianza\n",
    "t_critical = stats.t.ppf(1 - alpha/2, df=n - 1)  # Valor crítico t\n",
    "margin_of_error = t_critical * (std_birth_rate / np.sqrt(n))\n",
    "\n",
    "confidence_interval = (mean_birth_rate - margin_of_error, mean_birth_rate + margin_of_error)\n",
    "\n",
    "print(f\"Intervalo de confianza del {confidence_level*100}% para la tasa de natalidad en Asia: {confidence_interval}\")"
   ]
  },
  {
   "cell_type": "code",
   "execution_count": 20,
   "metadata": {},
   "outputs": [],
   "source": [
    "asia_data = df[df['continent'] == 'Asia']['birth_rate'].dropna()"
   ]
  },
  {
   "cell_type": "code",
   "execution_count": 27,
   "metadata": {},
   "outputs": [],
   "source": [
    "confidence_level = 0.99  # Nivel de confianza del 99%"
   ]
  },
  {
   "cell_type": "code",
   "execution_count": 28,
   "metadata": {},
   "outputs": [],
   "source": [
    "# Calcular la media y la desviación estándar\n",
    "mean_birth = np.mean(asia_data)\n",
    "std_birth = np.std(asia_data, ddof=1)  # ddof=1 para estimación de muestra"
   ]
  },
  {
   "cell_type": "code",
   "execution_count": 29,
   "metadata": {},
   "outputs": [],
   "source": [
    "# Calcular el tamaño de la muestra\n",
    "n = len(data)"
   ]
  },
  {
   "cell_type": "code",
   "execution_count": 30,
   "metadata": {},
   "outputs": [],
   "source": [
    "# Calcular el valor crítico t y el margen de error\n",
    "t_critical = stats.t.ppf(1 - (1 - confidence_level) / 2, df=n - 1)  # Valor crítico t\n",
    "margin_of_error = t_critical * (std_gdp / np.sqrt(n))"
   ]
  },
  {
   "cell_type": "code",
   "execution_count": 32,
   "metadata": {},
   "outputs": [],
   "source": [
    "# Calcular el intervalo de confianza\n",
    "confidence_interval = (mean_birth  - margin_of_error, mean_birth  + margin_of_error)"
   ]
  },
  {
   "cell_type": "code",
   "execution_count": 33,
   "metadata": {},
   "outputs": [
    {
     "name": "stdout",
     "output_type": "stream",
     "text": [
      "Intervalo de confianza del 99.0% para la tasa de natalidad en Asia: (-56743514555.95727, 113520384198.75726)\n"
     ]
    }
   ],
   "source": [
    "print(f\"Intervalo de confianza del {confidence_level*100}% para la tasa de natalidad en Asia: {confidence_interval}\")"
   ]
  },
  {
   "cell_type": "code",
   "execution_count": 41,
   "metadata": {},
   "outputs": [],
   "source": [
    "oceania_data = df[df['continent'] == 'Oceania'].groupby('country')['unemployment_rate'].mean().dropna()"
   ]
  },
  {
   "cell_type": "code",
   "execution_count": 42,
   "metadata": {},
   "outputs": [],
   "source": [
    "    # Calcular la media y la desviación estándar\n",
    "    mean_unemployment = np.mean(oceania_data)\n",
    "    std_unemployment = np.std(oceania_data, ddof=1)  # ddof=1 para estimación de muestra"
   ]
  },
  {
   "cell_type": "code",
   "execution_count": 43,
   "metadata": {},
   "outputs": [],
   "source": [
    "# Calcular el tamaño de la muestra\n",
    "n = len(oceania_data)"
   ]
  }
 ],
 "metadata": {
  "kernelspec": {
   "display_name": "Python 3",
   "language": "python",
   "name": "python3"
  },
  "language_info": {
   "codemirror_mode": {
    "name": "ipython",
    "version": 3
   },
   "file_extension": ".py",
   "mimetype": "text/x-python",
   "name": "python",
   "nbconvert_exporter": "python",
   "pygments_lexer": "ipython3",
   "version": "3.12.3"
  }
 },
 "nbformat": 4,
 "nbformat_minor": 2
}
